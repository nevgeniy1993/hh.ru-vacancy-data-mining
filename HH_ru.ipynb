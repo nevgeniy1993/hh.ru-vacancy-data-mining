{
 "cells": [
  {
   "cell_type": "markdown",
   "metadata": {
    "toc": true
   },
   "source": [
    "<h1>Table of Contents<span class=\"tocSkip\"></span></h1>\n",
    "<div class=\"toc\"><ul class=\"toc-item\"></ul></div>"
   ]
  },
  {
   "cell_type": "code",
   "execution_count": 1,
   "metadata": {},
   "outputs": [],
   "source": [
    "import requests\n",
    "import json\n",
    "from tqdm.auto import tqdm\n",
    "from collections import defaultdict\n",
    "import pickle \n",
    "import pandas as pd\n",
    "import datetime\n",
    "from dateutil.relativedelta import relativedelta\n",
    "import matplotlib.pyplot as plt\n",
    "from matplotlib.pyplot import figure\n"
   ]
  },
  {
   "cell_type": "code",
   "execution_count": null,
   "metadata": {},
   "outputs": [],
   "source": []
  },
  {
   "cell_type": "code",
   "execution_count": 2,
   "metadata": {},
   "outputs": [
    {
     "name": "stdout",
     "output_type": "stream",
     "text": [
      "2021-11-19\n"
     ]
    },
    {
     "data": {
      "application/vnd.jupyter.widget-view+json": {
       "model_id": "137c7e7855d547539de83df7e0387c3f",
       "version_major": 2,
       "version_minor": 0
      },
      "text/plain": [
       "  0%|          | 0/1 [00:00<?, ?it/s]"
      ]
     },
     "metadata": {},
     "output_type": "display_data"
    },
    {
     "name": "stdout",
     "output_type": "stream",
     "text": [
      "0\n",
      "2021-11-20\n"
     ]
    },
    {
     "data": {
      "application/vnd.jupyter.widget-view+json": {
       "model_id": "6c1f94a846bb4b01bb9be2ec0a205bdf",
       "version_major": 2,
       "version_minor": 0
      },
      "text/plain": [
       "  0%|          | 0/1 [00:00<?, ?it/s]"
      ]
     },
     "metadata": {},
     "output_type": "display_data"
    },
    {
     "name": "stdout",
     "output_type": "stream",
     "text": [
      "0\n",
      "2021-11-21\n"
     ]
    },
    {
     "data": {
      "application/vnd.jupyter.widget-view+json": {
       "model_id": "c879c584183747108536cd78562a7450",
       "version_major": 2,
       "version_minor": 0
      },
      "text/plain": [
       "  0%|          | 0/1 [00:00<?, ?it/s]"
      ]
     },
     "metadata": {},
     "output_type": "display_data"
    },
    {
     "name": "stdout",
     "output_type": "stream",
     "text": [
      "0\n",
      "2021-11-22\n"
     ]
    },
    {
     "data": {
      "application/vnd.jupyter.widget-view+json": {
       "model_id": "650780dbfd08439eb8567732a240f5fb",
       "version_major": 2,
       "version_minor": 0
      },
      "text/plain": [
       "  0%|          | 0/1 [00:00<?, ?it/s]"
      ]
     },
     "metadata": {},
     "output_type": "display_data"
    },
    {
     "name": "stdout",
     "output_type": "stream",
     "text": [
      "0\n",
      "2021-11-23\n"
     ]
    },
    {
     "data": {
      "application/vnd.jupyter.widget-view+json": {
       "model_id": "611cc208407b4e99817cacd7d40d1c6a",
       "version_major": 2,
       "version_minor": 0
      },
      "text/plain": [
       "  0%|          | 0/1 [00:00<?, ?it/s]"
      ]
     },
     "metadata": {},
     "output_type": "display_data"
    },
    {
     "name": "stdout",
     "output_type": "stream",
     "text": [
      "0\n",
      "2021-11-24\n"
     ]
    },
    {
     "data": {
      "application/vnd.jupyter.widget-view+json": {
       "model_id": "61a22034b15c452998c268ad5ed2a33f",
       "version_major": 2,
       "version_minor": 0
      },
      "text/plain": [
       "  0%|          | 0/1 [00:00<?, ?it/s]"
      ]
     },
     "metadata": {},
     "output_type": "display_data"
    },
    {
     "name": "stdout",
     "output_type": "stream",
     "text": [
      "0\n",
      "2021-11-25\n"
     ]
    },
    {
     "data": {
      "application/vnd.jupyter.widget-view+json": {
       "model_id": "7dab2edbf56a47bfabd194cfff910177",
       "version_major": 2,
       "version_minor": 0
      },
      "text/plain": [
       "  0%|          | 0/1 [00:00<?, ?it/s]"
      ]
     },
     "metadata": {},
     "output_type": "display_data"
    },
    {
     "name": "stdout",
     "output_type": "stream",
     "text": [
      "0\n",
      "2021-11-26\n"
     ]
    },
    {
     "data": {
      "application/vnd.jupyter.widget-view+json": {
       "model_id": "9f883755452c404c952142125594082d",
       "version_major": 2,
       "version_minor": 0
      },
      "text/plain": [
       "  0%|          | 0/1 [00:00<?, ?it/s]"
      ]
     },
     "metadata": {},
     "output_type": "display_data"
    },
    {
     "name": "stdout",
     "output_type": "stream",
     "text": [
      "0\n",
      "2021-11-27\n"
     ]
    },
    {
     "data": {
      "application/vnd.jupyter.widget-view+json": {
       "model_id": "0fc8dfee536e4d99bb6305c8af7c3c7a",
       "version_major": 2,
       "version_minor": 0
      },
      "text/plain": [
       "  0%|          | 0/1 [00:00<?, ?it/s]"
      ]
     },
     "metadata": {},
     "output_type": "display_data"
    },
    {
     "name": "stdout",
     "output_type": "stream",
     "text": [
      "0\n",
      "2021-11-28\n"
     ]
    },
    {
     "data": {
      "application/vnd.jupyter.widget-view+json": {
       "model_id": "9f9790a30fc746d985a63afede8ba9ab",
       "version_major": 2,
       "version_minor": 0
      },
      "text/plain": [
       "  0%|          | 0/1 [00:00<?, ?it/s]"
      ]
     },
     "metadata": {},
     "output_type": "display_data"
    },
    {
     "name": "stdout",
     "output_type": "stream",
     "text": [
      "0\n",
      "2021-11-29\n"
     ]
    },
    {
     "data": {
      "application/vnd.jupyter.widget-view+json": {
       "model_id": "b8ed0b3e77d746e18cc6b6527f41f5a3",
       "version_major": 2,
       "version_minor": 0
      },
      "text/plain": [
       "  0%|          | 0/1 [00:00<?, ?it/s]"
      ]
     },
     "metadata": {},
     "output_type": "display_data"
    },
    {
     "name": "stdout",
     "output_type": "stream",
     "text": [
      "0\n",
      "2021-11-30\n"
     ]
    },
    {
     "data": {
      "application/vnd.jupyter.widget-view+json": {
       "model_id": "dd1d826bf9a644e0a729fc924ea988a0",
       "version_major": 2,
       "version_minor": 0
      },
      "text/plain": [
       "  0%|          | 0/1 [00:00<?, ?it/s]"
      ]
     },
     "metadata": {},
     "output_type": "display_data"
    },
    {
     "name": "stdout",
     "output_type": "stream",
     "text": [
      "0\n",
      "2021-12-01\n"
     ]
    },
    {
     "data": {
      "application/vnd.jupyter.widget-view+json": {
       "model_id": "d893e1ab2cff47728014e08a23510035",
       "version_major": 2,
       "version_minor": 0
      },
      "text/plain": [
       "  0%|          | 0/1 [00:00<?, ?it/s]"
      ]
     },
     "metadata": {},
     "output_type": "display_data"
    },
    {
     "name": "stdout",
     "output_type": "stream",
     "text": [
      "0\n",
      "2021-12-02\n"
     ]
    },
    {
     "data": {
      "application/vnd.jupyter.widget-view+json": {
       "model_id": "2c62c5d03a0a4f6b9ceffff7aacc83e2",
       "version_major": 2,
       "version_minor": 0
      },
      "text/plain": [
       "  0%|          | 0/1 [00:00<?, ?it/s]"
      ]
     },
     "metadata": {},
     "output_type": "display_data"
    },
    {
     "name": "stdout",
     "output_type": "stream",
     "text": [
      "0\n",
      "2021-12-03\n"
     ]
    },
    {
     "data": {
      "application/vnd.jupyter.widget-view+json": {
       "model_id": "29d4181034fb4473a9b1014755439266",
       "version_major": 2,
       "version_minor": 0
      },
      "text/plain": [
       "  0%|          | 0/1 [00:00<?, ?it/s]"
      ]
     },
     "metadata": {},
     "output_type": "display_data"
    },
    {
     "name": "stdout",
     "output_type": "stream",
     "text": [
      "0\n",
      "2021-12-04\n"
     ]
    },
    {
     "data": {
      "application/vnd.jupyter.widget-view+json": {
       "model_id": "9b51df2284464823b734d532d9868bb1",
       "version_major": 2,
       "version_minor": 0
      },
      "text/plain": [
       "  0%|          | 0/1 [00:00<?, ?it/s]"
      ]
     },
     "metadata": {},
     "output_type": "display_data"
    },
    {
     "name": "stdout",
     "output_type": "stream",
     "text": [
      "0\n",
      "2021-12-05\n"
     ]
    },
    {
     "data": {
      "application/vnd.jupyter.widget-view+json": {
       "model_id": "d070a11521e64f82904593023e6cd3bd",
       "version_major": 2,
       "version_minor": 0
      },
      "text/plain": [
       "  0%|          | 0/1 [00:00<?, ?it/s]"
      ]
     },
     "metadata": {},
     "output_type": "display_data"
    },
    {
     "name": "stdout",
     "output_type": "stream",
     "text": [
      "9\n",
      "2021-12-06\n"
     ]
    },
    {
     "data": {
      "application/vnd.jupyter.widget-view+json": {
       "model_id": "8748d2603cfc4143a91ac6840f4c272c",
       "version_major": 2,
       "version_minor": 0
      },
      "text/plain": [
       "  0%|          | 0/1 [00:00<?, ?it/s]"
      ]
     },
     "metadata": {},
     "output_type": "display_data"
    },
    {
     "name": "stdout",
     "output_type": "stream",
     "text": [
      "9\n",
      "2021-12-07\n"
     ]
    },
    {
     "data": {
      "application/vnd.jupyter.widget-view+json": {
       "model_id": "7d2e9d3945b9429e95b8abad2b2c8457",
       "version_major": 2,
       "version_minor": 0
      },
      "text/plain": [
       "  0%|          | 0/1 [00:00<?, ?it/s]"
      ]
     },
     "metadata": {},
     "output_type": "display_data"
    },
    {
     "name": "stdout",
     "output_type": "stream",
     "text": [
      "11\n",
      "2021-12-08\n"
     ]
    },
    {
     "data": {
      "application/vnd.jupyter.widget-view+json": {
       "model_id": "ec160318593e4a6aace386c2fd51b982",
       "version_major": 2,
       "version_minor": 0
      },
      "text/plain": [
       "  0%|          | 0/1 [00:00<?, ?it/s]"
      ]
     },
     "metadata": {},
     "output_type": "display_data"
    },
    {
     "name": "stdout",
     "output_type": "stream",
     "text": [
      "11\n",
      "2021-12-09\n"
     ]
    },
    {
     "data": {
      "application/vnd.jupyter.widget-view+json": {
       "model_id": "ec21b929a15b402891227db70e3a6a44",
       "version_major": 2,
       "version_minor": 0
      },
      "text/plain": [
       "  0%|          | 0/1 [00:00<?, ?it/s]"
      ]
     },
     "metadata": {},
     "output_type": "display_data"
    },
    {
     "name": "stdout",
     "output_type": "stream",
     "text": [
      "12\n",
      "2021-12-10\n"
     ]
    },
    {
     "data": {
      "application/vnd.jupyter.widget-view+json": {
       "model_id": "88ff0c43a80045929d7530034bc6abd2",
       "version_major": 2,
       "version_minor": 0
      },
      "text/plain": [
       "  0%|          | 0/1 [00:00<?, ?it/s]"
      ]
     },
     "metadata": {},
     "output_type": "display_data"
    },
    {
     "name": "stdout",
     "output_type": "stream",
     "text": [
      "12\n",
      "2021-12-11\n"
     ]
    },
    {
     "data": {
      "application/vnd.jupyter.widget-view+json": {
       "model_id": "f75477414d6e409793d1243c30bcb723",
       "version_major": 2,
       "version_minor": 0
      },
      "text/plain": [
       "  0%|          | 0/1 [00:00<?, ?it/s]"
      ]
     },
     "metadata": {},
     "output_type": "display_data"
    },
    {
     "name": "stdout",
     "output_type": "stream",
     "text": [
      "12\n",
      "2021-12-12\n"
     ]
    },
    {
     "data": {
      "application/vnd.jupyter.widget-view+json": {
       "model_id": "09bcc067772d4c748c417d5cca133c5e",
       "version_major": 2,
       "version_minor": 0
      },
      "text/plain": [
       "  0%|          | 0/1 [00:00<?, ?it/s]"
      ]
     },
     "metadata": {},
     "output_type": "display_data"
    },
    {
     "name": "stdout",
     "output_type": "stream",
     "text": [
      "33\n",
      "2021-12-13\n"
     ]
    },
    {
     "data": {
      "application/vnd.jupyter.widget-view+json": {
       "model_id": "beda540fc378426f890fb80dc208f6ba",
       "version_major": 2,
       "version_minor": 0
      },
      "text/plain": [
       "  0%|          | 0/2 [00:00<?, ?it/s]"
      ]
     },
     "metadata": {},
     "output_type": "display_data"
    },
    {
     "name": "stdout",
     "output_type": "stream",
     "text": [
      "153\n",
      "2021-12-14\n"
     ]
    },
    {
     "data": {
      "application/vnd.jupyter.widget-view+json": {
       "model_id": "cedb2b2872ae433e97a461373620f0f0",
       "version_major": 2,
       "version_minor": 0
      },
      "text/plain": [
       "  0%|          | 0/1 [00:00<?, ?it/s]"
      ]
     },
     "metadata": {},
     "output_type": "display_data"
    },
    {
     "name": "stdout",
     "output_type": "stream",
     "text": [
      "246\n",
      "2021-12-15\n"
     ]
    },
    {
     "data": {
      "application/vnd.jupyter.widget-view+json": {
       "model_id": "be44f7f359ca4053bfb5ef22c0f31afc",
       "version_major": 2,
       "version_minor": 0
      },
      "text/plain": [
       "  0%|          | 0/1 [00:00<?, ?it/s]"
      ]
     },
     "metadata": {},
     "output_type": "display_data"
    },
    {
     "name": "stdout",
     "output_type": "stream",
     "text": [
      "338\n",
      "2021-12-16\n"
     ]
    },
    {
     "data": {
      "application/vnd.jupyter.widget-view+json": {
       "model_id": "ae5b4b95e5c7427b9872d2a93afe3374",
       "version_major": 2,
       "version_minor": 0
      },
      "text/plain": [
       "  0%|          | 0/2 [00:00<?, ?it/s]"
      ]
     },
     "metadata": {},
     "output_type": "display_data"
    },
    {
     "name": "stdout",
     "output_type": "stream",
     "text": [
      "446\n",
      "2021-12-17\n"
     ]
    },
    {
     "data": {
      "application/vnd.jupyter.widget-view+json": {
       "model_id": "20403ac82a504f7e81fcb9d1605e9c68",
       "version_major": 2,
       "version_minor": 0
      },
      "text/plain": [
       "  0%|          | 0/1 [00:00<?, ?it/s]"
      ]
     },
     "metadata": {},
     "output_type": "display_data"
    },
    {
     "name": "stdout",
     "output_type": "stream",
     "text": [
      "458\n",
      "2021-12-18\n"
     ]
    },
    {
     "data": {
      "application/vnd.jupyter.widget-view+json": {
       "model_id": "d9c76890fdbb429ea5d5fbed9677a5f0",
       "version_major": 2,
       "version_minor": 0
      },
      "text/plain": [
       "  0%|          | 0/1 [00:00<?, ?it/s]"
      ]
     },
     "metadata": {},
     "output_type": "display_data"
    },
    {
     "name": "stdout",
     "output_type": "stream",
     "text": [
      "467\n",
      "2021-12-19\n"
     ]
    },
    {
     "data": {
      "application/vnd.jupyter.widget-view+json": {
       "model_id": "c5325d1844794647bc78a2181e4f7514",
       "version_major": 2,
       "version_minor": 0
      },
      "text/plain": [
       "  0%|          | 0/2 [00:00<?, ?it/s]"
      ]
     },
     "metadata": {},
     "output_type": "display_data"
    },
    {
     "name": "stdout",
     "output_type": "stream",
     "text": [
      "635\n",
      "2021-12-20\n"
     ]
    },
    {
     "data": {
      "application/vnd.jupyter.widget-view+json": {
       "model_id": "6d11869a67db40349e6b3b53d1423957",
       "version_major": 2,
       "version_minor": 0
      },
      "text/plain": [
       "  0%|          | 0/2 [00:00<?, ?it/s]"
      ]
     },
     "metadata": {},
     "output_type": "display_data"
    },
    {
     "name": "stdout",
     "output_type": "stream",
     "text": [
      "775\n",
      "2021-12-21\n"
     ]
    },
    {
     "data": {
      "application/vnd.jupyter.widget-view+json": {
       "model_id": "4b31e95d90aa4a7aa0dc4a1bcea241e6",
       "version_major": 2,
       "version_minor": 0
      },
      "text/plain": [
       "  0%|          | 0/2 [00:00<?, ?it/s]"
      ]
     },
     "metadata": {},
     "output_type": "display_data"
    },
    {
     "name": "stdout",
     "output_type": "stream",
     "text": [
      "917\n",
      "2021-12-22\n"
     ]
    },
    {
     "data": {
      "application/vnd.jupyter.widget-view+json": {
       "model_id": "d65f2b3dd79740b7900c77f595662bb6",
       "version_major": 2,
       "version_minor": 0
      },
      "text/plain": [
       "  0%|          | 0/2 [00:00<?, ?it/s]"
      ]
     },
     "metadata": {},
     "output_type": "display_data"
    },
    {
     "name": "stdout",
     "output_type": "stream",
     "text": [
      "1036\n",
      "2021-12-23\n"
     ]
    },
    {
     "data": {
      "application/vnd.jupyter.widget-view+json": {
       "model_id": "38e66bd688f34ae78a299a3bc413d519",
       "version_major": 2,
       "version_minor": 0
      },
      "text/plain": [
       "  0%|          | 0/2 [00:00<?, ?it/s]"
      ]
     },
     "metadata": {},
     "output_type": "display_data"
    },
    {
     "name": "stdout",
     "output_type": "stream",
     "text": [
      "1187\n",
      "2021-12-24\n"
     ]
    },
    {
     "data": {
      "application/vnd.jupyter.widget-view+json": {
       "model_id": "cf48d3141a2c43dcaa6a43164fc887cc",
       "version_major": 2,
       "version_minor": 0
      },
      "text/plain": [
       "  0%|          | 0/1 [00:00<?, ?it/s]"
      ]
     },
     "metadata": {},
     "output_type": "display_data"
    },
    {
     "name": "stdout",
     "output_type": "stream",
     "text": [
      "1217\n",
      "2021-12-25\n"
     ]
    },
    {
     "data": {
      "application/vnd.jupyter.widget-view+json": {
       "model_id": "3d33b47758ca413cb697bc5adab6c6ef",
       "version_major": 2,
       "version_minor": 0
      },
      "text/plain": [
       "  0%|          | 0/1 [00:00<?, ?it/s]"
      ]
     },
     "metadata": {},
     "output_type": "display_data"
    },
    {
     "name": "stdout",
     "output_type": "stream",
     "text": [
      "1230\n",
      "2021-12-26\n"
     ]
    },
    {
     "data": {
      "application/vnd.jupyter.widget-view+json": {
       "model_id": "38825a6c4f5a4ad39bcb375e168fb10b",
       "version_major": 2,
       "version_minor": 0
      },
      "text/plain": [
       "  0%|          | 0/3 [00:00<?, ?it/s]"
      ]
     },
     "metadata": {},
     "output_type": "display_data"
    },
    {
     "name": "stdout",
     "output_type": "stream",
     "text": [
      "1445\n",
      "2021-12-27\n"
     ]
    },
    {
     "data": {
      "application/vnd.jupyter.widget-view+json": {
       "model_id": "f0b6b547f81f41ae879e476b2945b760",
       "version_major": 2,
       "version_minor": 0
      },
      "text/plain": [
       "  0%|          | 0/2 [00:00<?, ?it/s]"
      ]
     },
     "metadata": {},
     "output_type": "display_data"
    },
    {
     "name": "stdout",
     "output_type": "stream",
     "text": [
      "1631\n",
      "2021-12-28\n"
     ]
    },
    {
     "data": {
      "application/vnd.jupyter.widget-view+json": {
       "model_id": "a53da95c7a884b28955aedf5bdb5c2f6",
       "version_major": 2,
       "version_minor": 0
      },
      "text/plain": [
       "  0%|          | 0/3 [00:00<?, ?it/s]"
      ]
     },
     "metadata": {},
     "output_type": "display_data"
    },
    {
     "name": "stdout",
     "output_type": "stream",
     "text": [
      "1846\n",
      "2021-12-29\n"
     ]
    },
    {
     "data": {
      "application/vnd.jupyter.widget-view+json": {
       "model_id": "baa4df6929b3477b9a585b675c1e6dd5",
       "version_major": 2,
       "version_minor": 0
      },
      "text/plain": [
       "  0%|          | 0/2 [00:00<?, ?it/s]"
      ]
     },
     "metadata": {},
     "output_type": "display_data"
    },
    {
     "name": "stdout",
     "output_type": "stream",
     "text": [
      "1994\n",
      "2021-12-30\n"
     ]
    },
    {
     "data": {
      "application/vnd.jupyter.widget-view+json": {
       "model_id": "35b169db2dc3494dbd51779adeb318ad",
       "version_major": 2,
       "version_minor": 0
      },
      "text/plain": [
       "  0%|          | 0/1 [00:00<?, ?it/s]"
      ]
     },
     "metadata": {},
     "output_type": "display_data"
    },
    {
     "name": "stdout",
     "output_type": "stream",
     "text": [
      "2062\n",
      "2021-12-31\n"
     ]
    },
    {
     "data": {
      "application/vnd.jupyter.widget-view+json": {
       "model_id": "e103137ee9004a94b780fe52bae3a381",
       "version_major": 2,
       "version_minor": 0
      },
      "text/plain": [
       "  0%|          | 0/1 [00:00<?, ?it/s]"
      ]
     },
     "metadata": {},
     "output_type": "display_data"
    },
    {
     "name": "stdout",
     "output_type": "stream",
     "text": [
      "2062\n",
      "2022-01-01\n"
     ]
    },
    {
     "data": {
      "application/vnd.jupyter.widget-view+json": {
       "model_id": "9226b22095004738b69534205e8567f6",
       "version_major": 2,
       "version_minor": 0
      },
      "text/plain": [
       "  0%|          | 0/1 [00:00<?, ?it/s]"
      ]
     },
     "metadata": {},
     "output_type": "display_data"
    },
    {
     "name": "stdout",
     "output_type": "stream",
     "text": [
      "2063\n",
      "2022-01-02\n"
     ]
    },
    {
     "data": {
      "application/vnd.jupyter.widget-view+json": {
       "model_id": "2f0959539fc441709a09f5eb622ccf43",
       "version_major": 2,
       "version_minor": 0
      },
      "text/plain": [
       "  0%|          | 0/1 [00:00<?, ?it/s]"
      ]
     },
     "metadata": {},
     "output_type": "display_data"
    },
    {
     "name": "stdout",
     "output_type": "stream",
     "text": [
      "2063\n",
      "2022-01-03\n"
     ]
    },
    {
     "data": {
      "application/vnd.jupyter.widget-view+json": {
       "model_id": "6c367b487f2e4facaef88b0b846638ed",
       "version_major": 2,
       "version_minor": 0
      },
      "text/plain": [
       "  0%|          | 0/1 [00:00<?, ?it/s]"
      ]
     },
     "metadata": {},
     "output_type": "display_data"
    },
    {
     "name": "stdout",
     "output_type": "stream",
     "text": [
      "2063\n",
      "2022-01-04\n"
     ]
    },
    {
     "data": {
      "application/vnd.jupyter.widget-view+json": {
       "model_id": "e3277ed6274a42d59bd27785e48abe4d",
       "version_major": 2,
       "version_minor": 0
      },
      "text/plain": [
       "  0%|          | 0/1 [00:00<?, ?it/s]"
      ]
     },
     "metadata": {},
     "output_type": "display_data"
    },
    {
     "name": "stdout",
     "output_type": "stream",
     "text": [
      "2074\n",
      "2022-01-05\n"
     ]
    },
    {
     "data": {
      "application/vnd.jupyter.widget-view+json": {
       "model_id": "930926fbcf144dcc95867afbc2650da4",
       "version_major": 2,
       "version_minor": 0
      },
      "text/plain": [
       "  0%|          | 0/1 [00:00<?, ?it/s]"
      ]
     },
     "metadata": {},
     "output_type": "display_data"
    },
    {
     "name": "stdout",
     "output_type": "stream",
     "text": [
      "2082\n",
      "2022-01-06\n"
     ]
    },
    {
     "data": {
      "application/vnd.jupyter.widget-view+json": {
       "model_id": "4a2912ba6a6f40caac240982a5d36f3c",
       "version_major": 2,
       "version_minor": 0
      },
      "text/plain": [
       "  0%|          | 0/1 [00:00<?, ?it/s]"
      ]
     },
     "metadata": {},
     "output_type": "display_data"
    },
    {
     "name": "stdout",
     "output_type": "stream",
     "text": [
      "2085\n",
      "2022-01-07\n"
     ]
    },
    {
     "data": {
      "application/vnd.jupyter.widget-view+json": {
       "model_id": "8a57a78282e44927a1ce7a8838c9e5ae",
       "version_major": 2,
       "version_minor": 0
      },
      "text/plain": [
       "  0%|          | 0/1 [00:00<?, ?it/s]"
      ]
     },
     "metadata": {},
     "output_type": "display_data"
    },
    {
     "name": "stdout",
     "output_type": "stream",
     "text": [
      "2090\n",
      "2022-01-08\n"
     ]
    },
    {
     "data": {
      "application/vnd.jupyter.widget-view+json": {
       "model_id": "a8922c23b0db471cbb5db43fe8bc4874",
       "version_major": 2,
       "version_minor": 0
      },
      "text/plain": [
       "  0%|          | 0/1 [00:00<?, ?it/s]"
      ]
     },
     "metadata": {},
     "output_type": "display_data"
    },
    {
     "name": "stdout",
     "output_type": "stream",
     "text": [
      "2130\n",
      "2022-01-09\n"
     ]
    },
    {
     "data": {
      "application/vnd.jupyter.widget-view+json": {
       "model_id": "6ce484c37e6b4dd3a2ea715dedfc531e",
       "version_major": 2,
       "version_minor": 0
      },
      "text/plain": [
       "  0%|          | 0/4 [00:00<?, ?it/s]"
      ]
     },
     "metadata": {},
     "output_type": "display_data"
    },
    {
     "name": "stdout",
     "output_type": "stream",
     "text": [
      "2451\n",
      "2022-01-10\n"
     ]
    },
    {
     "data": {
      "application/vnd.jupyter.widget-view+json": {
       "model_id": "544c0fd7c67d4147be266725c138f003",
       "version_major": 2,
       "version_minor": 0
      },
      "text/plain": [
       "  0%|          | 0/4 [00:00<?, ?it/s]"
      ]
     },
     "metadata": {},
     "output_type": "display_data"
    },
    {
     "name": "stdout",
     "output_type": "stream",
     "text": [
      "2763\n",
      "2022-01-11\n"
     ]
    },
    {
     "data": {
      "application/vnd.jupyter.widget-view+json": {
       "model_id": "426062e9ee104d2da42a1c158101c5dc",
       "version_major": 2,
       "version_minor": 0
      },
      "text/plain": [
       "  0%|          | 0/3 [00:00<?, ?it/s]"
      ]
     },
     "metadata": {},
     "output_type": "display_data"
    },
    {
     "name": "stdout",
     "output_type": "stream",
     "text": [
      "3045\n",
      "2022-01-12\n"
     ]
    },
    {
     "data": {
      "application/vnd.jupyter.widget-view+json": {
       "model_id": "8526b3b6aef24deab45f2f216eed24e5",
       "version_major": 2,
       "version_minor": 0
      },
      "text/plain": [
       "  0%|          | 0/4 [00:00<?, ?it/s]"
      ]
     },
     "metadata": {},
     "output_type": "display_data"
    },
    {
     "name": "stdout",
     "output_type": "stream",
     "text": [
      "3408\n",
      "2022-01-13\n"
     ]
    },
    {
     "data": {
      "application/vnd.jupyter.widget-view+json": {
       "model_id": "9db5a0689af34a21bdac2ba1a288e789",
       "version_major": 2,
       "version_minor": 0
      },
      "text/plain": [
       "  0%|          | 0/3 [00:00<?, ?it/s]"
      ]
     },
     "metadata": {},
     "output_type": "display_data"
    },
    {
     "name": "stdout",
     "output_type": "stream",
     "text": [
      "3650\n",
      "2022-01-14\n"
     ]
    },
    {
     "data": {
      "application/vnd.jupyter.widget-view+json": {
       "model_id": "82a3ff9e507a4dbc81a8cb94d8cbdd27",
       "version_major": 2,
       "version_minor": 0
      },
      "text/plain": [
       "  0%|          | 0/1 [00:00<?, ?it/s]"
      ]
     },
     "metadata": {},
     "output_type": "display_data"
    },
    {
     "name": "stdout",
     "output_type": "stream",
     "text": [
      "3678\n",
      "2022-01-15\n"
     ]
    },
    {
     "data": {
      "application/vnd.jupyter.widget-view+json": {
       "model_id": "bb1aa52380c7470ebed611a2ce955de3",
       "version_major": 2,
       "version_minor": 0
      },
      "text/plain": [
       "  0%|          | 0/1 [00:00<?, ?it/s]"
      ]
     },
     "metadata": {},
     "output_type": "display_data"
    },
    {
     "name": "stdout",
     "output_type": "stream",
     "text": [
      "3713\n",
      "2022-01-16\n"
     ]
    },
    {
     "data": {
      "application/vnd.jupyter.widget-view+json": {
       "model_id": "b77901189b6240c99e0828a504509129",
       "version_major": 2,
       "version_minor": 0
      },
      "text/plain": [
       "  0%|          | 0/5 [00:00<?, ?it/s]"
      ]
     },
     "metadata": {},
     "output_type": "display_data"
    },
    {
     "name": "stdout",
     "output_type": "stream",
     "text": [
      "4151\n",
      "2022-01-17\n"
     ]
    },
    {
     "data": {
      "application/vnd.jupyter.widget-view+json": {
       "model_id": "dece3e7c82be466aa074a31299fac0bf",
       "version_major": 2,
       "version_minor": 0
      },
      "text/plain": [
       "  0%|          | 0/4 [00:00<?, ?it/s]"
      ]
     },
     "metadata": {},
     "output_type": "display_data"
    },
    {
     "name": "stdout",
     "output_type": "stream",
     "text": [
      "4452\n",
      "2022-01-18\n"
     ]
    },
    {
     "data": {
      "application/vnd.jupyter.widget-view+json": {
       "model_id": "440fff1f377f4dfdbfee9ad39fb3cf94",
       "version_major": 2,
       "version_minor": 0
      },
      "text/plain": [
       "  0%|          | 0/4 [00:00<?, ?it/s]"
      ]
     },
     "metadata": {},
     "output_type": "display_data"
    },
    {
     "name": "stdout",
     "output_type": "stream",
     "text": [
      "4799\n",
      "2022-01-19\n"
     ]
    },
    {
     "data": {
      "application/vnd.jupyter.widget-view+json": {
       "model_id": "fdeac58381d5482695e3f2c98316146d",
       "version_major": 2,
       "version_minor": 0
      },
      "text/plain": [
       "  0%|          | 0/7 [00:00<?, ?it/s]"
      ]
     },
     "metadata": {},
     "output_type": "display_data"
    },
    {
     "name": "stdout",
     "output_type": "stream",
     "text": [
      "5494\n",
      "2022-01-20\n"
     ]
    },
    {
     "data": {
      "application/vnd.jupyter.widget-view+json": {
       "model_id": "a0c9b68896e2494a82c3e8457fe18176",
       "version_major": 2,
       "version_minor": 0
      },
      "text/plain": [
       "  0%|          | 0/1 [00:00<?, ?it/s]"
      ]
     },
     "metadata": {},
     "output_type": "display_data"
    },
    {
     "name": "stdout",
     "output_type": "stream",
     "text": [
      "5494\n"
     ]
    }
   ],
   "source": [
    "# Выгрузка всех вакансий Сбербанка (с обходом ограничения на 2000 запросов)\n",
    "\n",
    "last_date = datetime.datetime.today()+relativedelta(days=1)\n",
    "first_date = datetime.datetime.today()-relativedelta(months=2)\n",
    "\n",
    "def getPage(page = 0):\n",
    "    params = {\n",
    "        'employer_id': '3529',\n",
    "        'area': 113,\n",
    "        'page': page,\n",
    "        'per_page': 100,\n",
    "        'date_from': first_date.strftime('%Y-%m-%d'),\n",
    "        'date_to': first_date.strftime('%Y-%m-%d'),\n",
    "        'responses_count_enabled': True\n",
    "    }\n",
    "    req = requests.get('https://api.hh.ru/vacancies', params)\n",
    "    data = req.content.decode()\n",
    "    req.close()\n",
    "    return data\n",
    "\n",
    "all_vacancies=[]\n",
    "while first_date <= last_date:\n",
    "    print((first_date-relativedelta(days=1)).strftime('%Y-%m-%d'))\n",
    "    for page in tqdm(range(json.loads(getPage(0)).get('pages'))):\n",
    "        vacancies = json.loads(getPage(page))\n",
    "        vacancy_ids = [el.get('id') for el in vacancies.get('items')]\n",
    "        all_vacancies.extend(vacancy_ids)\n",
    "    print(len(all_vacancies))\n",
    "    first_date += datetime.timedelta(days = 1)\n"
   ]
  },
  {
   "cell_type": "code",
   "execution_count": null,
   "metadata": {},
   "outputs": [],
   "source": []
  },
  {
   "cell_type": "code",
   "execution_count": 3,
   "metadata": {},
   "outputs": [
    {
     "name": "stdout",
     "output_type": "stream",
     "text": [
      "2021-11-19\n"
     ]
    },
    {
     "data": {
      "application/vnd.jupyter.widget-view+json": {
       "model_id": "d523ce09497846d0b482e12e0d931dec",
       "version_major": 2,
       "version_minor": 0
      },
      "text/plain": [
       "  0%|          | 0/1 [00:00<?, ?it/s]"
      ]
     },
     "metadata": {},
     "output_type": "display_data"
    },
    {
     "name": "stdout",
     "output_type": "stream",
     "text": [
      "2021-11-20\n"
     ]
    },
    {
     "data": {
      "application/vnd.jupyter.widget-view+json": {
       "model_id": "75d3883a5de941bfb49067da82016a82",
       "version_major": 2,
       "version_minor": 0
      },
      "text/plain": [
       "  0%|          | 0/1 [00:00<?, ?it/s]"
      ]
     },
     "metadata": {},
     "output_type": "display_data"
    },
    {
     "name": "stdout",
     "output_type": "stream",
     "text": [
      "2021-11-21\n"
     ]
    },
    {
     "data": {
      "application/vnd.jupyter.widget-view+json": {
       "model_id": "22f85f2ce446428f9a8dd082cf699e8a",
       "version_major": 2,
       "version_minor": 0
      },
      "text/plain": [
       "  0%|          | 0/1 [00:00<?, ?it/s]"
      ]
     },
     "metadata": {},
     "output_type": "display_data"
    },
    {
     "name": "stdout",
     "output_type": "stream",
     "text": [
      "2021-11-22\n"
     ]
    },
    {
     "data": {
      "application/vnd.jupyter.widget-view+json": {
       "model_id": "06bbe914096f4e36b6841fcdbab50d6c",
       "version_major": 2,
       "version_minor": 0
      },
      "text/plain": [
       "  0%|          | 0/1 [00:00<?, ?it/s]"
      ]
     },
     "metadata": {},
     "output_type": "display_data"
    },
    {
     "name": "stdout",
     "output_type": "stream",
     "text": [
      "2021-11-23\n"
     ]
    },
    {
     "data": {
      "application/vnd.jupyter.widget-view+json": {
       "model_id": "53ce8e54d20d45818d1ded79c6ed115e",
       "version_major": 2,
       "version_minor": 0
      },
      "text/plain": [
       "  0%|          | 0/1 [00:00<?, ?it/s]"
      ]
     },
     "metadata": {},
     "output_type": "display_data"
    },
    {
     "name": "stdout",
     "output_type": "stream",
     "text": [
      "2021-11-24\n"
     ]
    },
    {
     "data": {
      "application/vnd.jupyter.widget-view+json": {
       "model_id": "711c9cc9ad8c4310b10a40fae8c6e499",
       "version_major": 2,
       "version_minor": 0
      },
      "text/plain": [
       "  0%|          | 0/1 [00:00<?, ?it/s]"
      ]
     },
     "metadata": {},
     "output_type": "display_data"
    },
    {
     "name": "stdout",
     "output_type": "stream",
     "text": [
      "2021-11-25\n"
     ]
    },
    {
     "data": {
      "application/vnd.jupyter.widget-view+json": {
       "model_id": "c02e80e228d94c4e8102ba091986728e",
       "version_major": 2,
       "version_minor": 0
      },
      "text/plain": [
       "  0%|          | 0/1 [00:00<?, ?it/s]"
      ]
     },
     "metadata": {},
     "output_type": "display_data"
    },
    {
     "name": "stdout",
     "output_type": "stream",
     "text": [
      "2021-11-26\n"
     ]
    },
    {
     "data": {
      "application/vnd.jupyter.widget-view+json": {
       "model_id": "b7425bbefbee4abe8e4746a4a6b77e69",
       "version_major": 2,
       "version_minor": 0
      },
      "text/plain": [
       "  0%|          | 0/1 [00:00<?, ?it/s]"
      ]
     },
     "metadata": {},
     "output_type": "display_data"
    },
    {
     "name": "stdout",
     "output_type": "stream",
     "text": [
      "2021-11-27\n"
     ]
    },
    {
     "data": {
      "application/vnd.jupyter.widget-view+json": {
       "model_id": "038ee4e3a937406690873583a50af4f3",
       "version_major": 2,
       "version_minor": 0
      },
      "text/plain": [
       "  0%|          | 0/1 [00:00<?, ?it/s]"
      ]
     },
     "metadata": {},
     "output_type": "display_data"
    },
    {
     "name": "stdout",
     "output_type": "stream",
     "text": [
      "2021-11-28\n"
     ]
    },
    {
     "data": {
      "application/vnd.jupyter.widget-view+json": {
       "model_id": "1196b478fa844deda15d1afdcac9848f",
       "version_major": 2,
       "version_minor": 0
      },
      "text/plain": [
       "  0%|          | 0/1 [00:00<?, ?it/s]"
      ]
     },
     "metadata": {},
     "output_type": "display_data"
    },
    {
     "name": "stdout",
     "output_type": "stream",
     "text": [
      "2021-11-29\n"
     ]
    },
    {
     "data": {
      "application/vnd.jupyter.widget-view+json": {
       "model_id": "2e1d3fce7a674c2782e00edc3033f946",
       "version_major": 2,
       "version_minor": 0
      },
      "text/plain": [
       "  0%|          | 0/1 [00:00<?, ?it/s]"
      ]
     },
     "metadata": {},
     "output_type": "display_data"
    },
    {
     "name": "stdout",
     "output_type": "stream",
     "text": [
      "2021-11-30\n"
     ]
    },
    {
     "data": {
      "application/vnd.jupyter.widget-view+json": {
       "model_id": "198dd6ffb575425fb3acc65438810269",
       "version_major": 2,
       "version_minor": 0
      },
      "text/plain": [
       "  0%|          | 0/1 [00:00<?, ?it/s]"
      ]
     },
     "metadata": {},
     "output_type": "display_data"
    },
    {
     "name": "stdout",
     "output_type": "stream",
     "text": [
      "2021-12-01\n"
     ]
    },
    {
     "data": {
      "application/vnd.jupyter.widget-view+json": {
       "model_id": "845d18bb0fb049e5b6d294cbba05c47b",
       "version_major": 2,
       "version_minor": 0
      },
      "text/plain": [
       "  0%|          | 0/1 [00:00<?, ?it/s]"
      ]
     },
     "metadata": {},
     "output_type": "display_data"
    },
    {
     "name": "stdout",
     "output_type": "stream",
     "text": [
      "2021-12-02\n"
     ]
    },
    {
     "data": {
      "application/vnd.jupyter.widget-view+json": {
       "model_id": "c5c15ef2e5d4431b81693e4a18cedc40",
       "version_major": 2,
       "version_minor": 0
      },
      "text/plain": [
       "  0%|          | 0/1 [00:00<?, ?it/s]"
      ]
     },
     "metadata": {},
     "output_type": "display_data"
    },
    {
     "name": "stdout",
     "output_type": "stream",
     "text": [
      "2021-12-03\n"
     ]
    },
    {
     "data": {
      "application/vnd.jupyter.widget-view+json": {
       "model_id": "806b6acddef94ecebeed614d025912a3",
       "version_major": 2,
       "version_minor": 0
      },
      "text/plain": [
       "  0%|          | 0/1 [00:00<?, ?it/s]"
      ]
     },
     "metadata": {},
     "output_type": "display_data"
    },
    {
     "name": "stdout",
     "output_type": "stream",
     "text": [
      "2021-12-04\n"
     ]
    },
    {
     "data": {
      "application/vnd.jupyter.widget-view+json": {
       "model_id": "83893a0e13e5432b8dca9952df094607",
       "version_major": 2,
       "version_minor": 0
      },
      "text/plain": [
       "  0%|          | 0/1 [00:00<?, ?it/s]"
      ]
     },
     "metadata": {},
     "output_type": "display_data"
    },
    {
     "name": "stdout",
     "output_type": "stream",
     "text": [
      "2021-12-05\n"
     ]
    },
    {
     "data": {
      "application/vnd.jupyter.widget-view+json": {
       "model_id": "e90e29ecb3b14c8dbcff88c07c9be5a4",
       "version_major": 2,
       "version_minor": 0
      },
      "text/plain": [
       "  0%|          | 0/1 [00:00<?, ?it/s]"
      ]
     },
     "metadata": {},
     "output_type": "display_data"
    },
    {
     "name": "stdout",
     "output_type": "stream",
     "text": [
      "2021-12-06\n"
     ]
    },
    {
     "data": {
      "application/vnd.jupyter.widget-view+json": {
       "model_id": "27c719c051c1424e90ce09690d57a101",
       "version_major": 2,
       "version_minor": 0
      },
      "text/plain": [
       "  0%|          | 0/1 [00:00<?, ?it/s]"
      ]
     },
     "metadata": {},
     "output_type": "display_data"
    },
    {
     "name": "stdout",
     "output_type": "stream",
     "text": [
      "2021-12-07\n"
     ]
    },
    {
     "data": {
      "application/vnd.jupyter.widget-view+json": {
       "model_id": "3a7d0c1334b142c1bbfd9d0e1f1d6997",
       "version_major": 2,
       "version_minor": 0
      },
      "text/plain": [
       "  0%|          | 0/1 [00:00<?, ?it/s]"
      ]
     },
     "metadata": {},
     "output_type": "display_data"
    },
    {
     "name": "stdout",
     "output_type": "stream",
     "text": [
      "2021-12-08\n"
     ]
    },
    {
     "data": {
      "application/vnd.jupyter.widget-view+json": {
       "model_id": "78d69ad347a4476db5d5d3697eb86c24",
       "version_major": 2,
       "version_minor": 0
      },
      "text/plain": [
       "  0%|          | 0/1 [00:00<?, ?it/s]"
      ]
     },
     "metadata": {},
     "output_type": "display_data"
    },
    {
     "name": "stdout",
     "output_type": "stream",
     "text": [
      "2021-12-09\n"
     ]
    },
    {
     "data": {
      "application/vnd.jupyter.widget-view+json": {
       "model_id": "6f8f06a7325b4b61a1a1e965e6f07596",
       "version_major": 2,
       "version_minor": 0
      },
      "text/plain": [
       "  0%|          | 0/1 [00:00<?, ?it/s]"
      ]
     },
     "metadata": {},
     "output_type": "display_data"
    },
    {
     "name": "stdout",
     "output_type": "stream",
     "text": [
      "2021-12-10\n"
     ]
    },
    {
     "data": {
      "application/vnd.jupyter.widget-view+json": {
       "model_id": "f3fbe2efe4ba4036aa5f9b9c3d30b932",
       "version_major": 2,
       "version_minor": 0
      },
      "text/plain": [
       "  0%|          | 0/1 [00:00<?, ?it/s]"
      ]
     },
     "metadata": {},
     "output_type": "display_data"
    },
    {
     "name": "stdout",
     "output_type": "stream",
     "text": [
      "2021-12-11\n"
     ]
    },
    {
     "data": {
      "application/vnd.jupyter.widget-view+json": {
       "model_id": "9a6d6655b4f4489b8d74673161396d85",
       "version_major": 2,
       "version_minor": 0
      },
      "text/plain": [
       "  0%|          | 0/1 [00:00<?, ?it/s]"
      ]
     },
     "metadata": {},
     "output_type": "display_data"
    },
    {
     "name": "stdout",
     "output_type": "stream",
     "text": [
      "2021-12-12\n"
     ]
    },
    {
     "data": {
      "application/vnd.jupyter.widget-view+json": {
       "model_id": "0aa369471e0347a58bfd8f0761904d27",
       "version_major": 2,
       "version_minor": 0
      },
      "text/plain": [
       "  0%|          | 0/1 [00:00<?, ?it/s]"
      ]
     },
     "metadata": {},
     "output_type": "display_data"
    },
    {
     "name": "stdout",
     "output_type": "stream",
     "text": [
      "2021-12-13\n"
     ]
    },
    {
     "data": {
      "application/vnd.jupyter.widget-view+json": {
       "model_id": "9357e8abf1334b1aae328ff57dc48d07",
       "version_major": 2,
       "version_minor": 0
      },
      "text/plain": [
       "  0%|          | 0/2 [00:00<?, ?it/s]"
      ]
     },
     "metadata": {},
     "output_type": "display_data"
    },
    {
     "name": "stdout",
     "output_type": "stream",
     "text": [
      "2021-12-14\n"
     ]
    },
    {
     "data": {
      "application/vnd.jupyter.widget-view+json": {
       "model_id": "72d5af1acc46448bbabd666ea24e17d8",
       "version_major": 2,
       "version_minor": 0
      },
      "text/plain": [
       "  0%|          | 0/1 [00:00<?, ?it/s]"
      ]
     },
     "metadata": {},
     "output_type": "display_data"
    },
    {
     "name": "stdout",
     "output_type": "stream",
     "text": [
      "2021-12-15\n"
     ]
    },
    {
     "data": {
      "application/vnd.jupyter.widget-view+json": {
       "model_id": "c6923e40633140bab5fdeb1cdb213ed5",
       "version_major": 2,
       "version_minor": 0
      },
      "text/plain": [
       "  0%|          | 0/1 [00:00<?, ?it/s]"
      ]
     },
     "metadata": {},
     "output_type": "display_data"
    },
    {
     "name": "stdout",
     "output_type": "stream",
     "text": [
      "2021-12-16\n"
     ]
    },
    {
     "data": {
      "application/vnd.jupyter.widget-view+json": {
       "model_id": "110ea82a440b47e4b77c5e5d29cc9e50",
       "version_major": 2,
       "version_minor": 0
      },
      "text/plain": [
       "  0%|          | 0/2 [00:00<?, ?it/s]"
      ]
     },
     "metadata": {},
     "output_type": "display_data"
    },
    {
     "name": "stdout",
     "output_type": "stream",
     "text": [
      "2021-12-17\n"
     ]
    },
    {
     "data": {
      "application/vnd.jupyter.widget-view+json": {
       "model_id": "4c776a9d7b1b4bf5be8664507f955dac",
       "version_major": 2,
       "version_minor": 0
      },
      "text/plain": [
       "  0%|          | 0/1 [00:00<?, ?it/s]"
      ]
     },
     "metadata": {},
     "output_type": "display_data"
    },
    {
     "name": "stdout",
     "output_type": "stream",
     "text": [
      "2021-12-18\n"
     ]
    },
    {
     "data": {
      "application/vnd.jupyter.widget-view+json": {
       "model_id": "1d66d49d34cf40ea990f7d5ea205dacf",
       "version_major": 2,
       "version_minor": 0
      },
      "text/plain": [
       "  0%|          | 0/1 [00:00<?, ?it/s]"
      ]
     },
     "metadata": {},
     "output_type": "display_data"
    },
    {
     "name": "stdout",
     "output_type": "stream",
     "text": [
      "2021-12-19\n"
     ]
    },
    {
     "data": {
      "application/vnd.jupyter.widget-view+json": {
       "model_id": "adc90a7d6dce429d8c7c9e2509c5e848",
       "version_major": 2,
       "version_minor": 0
      },
      "text/plain": [
       "  0%|          | 0/2 [00:00<?, ?it/s]"
      ]
     },
     "metadata": {},
     "output_type": "display_data"
    },
    {
     "name": "stdout",
     "output_type": "stream",
     "text": [
      "2021-12-20\n"
     ]
    },
    {
     "data": {
      "application/vnd.jupyter.widget-view+json": {
       "model_id": "4cdcd06d6073421383553ae636f41ebb",
       "version_major": 2,
       "version_minor": 0
      },
      "text/plain": [
       "  0%|          | 0/2 [00:00<?, ?it/s]"
      ]
     },
     "metadata": {},
     "output_type": "display_data"
    },
    {
     "name": "stdout",
     "output_type": "stream",
     "text": [
      "2021-12-21\n"
     ]
    },
    {
     "data": {
      "application/vnd.jupyter.widget-view+json": {
       "model_id": "f9f70975066d413e841868138de5ba16",
       "version_major": 2,
       "version_minor": 0
      },
      "text/plain": [
       "  0%|          | 0/2 [00:00<?, ?it/s]"
      ]
     },
     "metadata": {},
     "output_type": "display_data"
    },
    {
     "name": "stdout",
     "output_type": "stream",
     "text": [
      "2021-12-22\n"
     ]
    },
    {
     "data": {
      "application/vnd.jupyter.widget-view+json": {
       "model_id": "b50ba36b71aa4a349c8fdb4a08047ddc",
       "version_major": 2,
       "version_minor": 0
      },
      "text/plain": [
       "  0%|          | 0/2 [00:00<?, ?it/s]"
      ]
     },
     "metadata": {},
     "output_type": "display_data"
    },
    {
     "name": "stdout",
     "output_type": "stream",
     "text": [
      "2021-12-23\n"
     ]
    },
    {
     "data": {
      "application/vnd.jupyter.widget-view+json": {
       "model_id": "4581ea7abdda4f60861624a3ab471a17",
       "version_major": 2,
       "version_minor": 0
      },
      "text/plain": [
       "  0%|          | 0/2 [00:00<?, ?it/s]"
      ]
     },
     "metadata": {},
     "output_type": "display_data"
    },
    {
     "name": "stdout",
     "output_type": "stream",
     "text": [
      "2021-12-24\n"
     ]
    },
    {
     "data": {
      "application/vnd.jupyter.widget-view+json": {
       "model_id": "729ec9c08aa04e7baf786ef98e489129",
       "version_major": 2,
       "version_minor": 0
      },
      "text/plain": [
       "  0%|          | 0/1 [00:00<?, ?it/s]"
      ]
     },
     "metadata": {},
     "output_type": "display_data"
    },
    {
     "name": "stdout",
     "output_type": "stream",
     "text": [
      "2021-12-25\n"
     ]
    },
    {
     "data": {
      "application/vnd.jupyter.widget-view+json": {
       "model_id": "8b66234f7bf84e3f9824f873045c2faf",
       "version_major": 2,
       "version_minor": 0
      },
      "text/plain": [
       "  0%|          | 0/1 [00:00<?, ?it/s]"
      ]
     },
     "metadata": {},
     "output_type": "display_data"
    },
    {
     "name": "stdout",
     "output_type": "stream",
     "text": [
      "2021-12-26\n"
     ]
    },
    {
     "data": {
      "application/vnd.jupyter.widget-view+json": {
       "model_id": "28db50cc124f467e98550a5d0388751f",
       "version_major": 2,
       "version_minor": 0
      },
      "text/plain": [
       "  0%|          | 0/3 [00:00<?, ?it/s]"
      ]
     },
     "metadata": {},
     "output_type": "display_data"
    },
    {
     "name": "stdout",
     "output_type": "stream",
     "text": [
      "2021-12-27\n"
     ]
    },
    {
     "data": {
      "application/vnd.jupyter.widget-view+json": {
       "model_id": "c27285252bf8497997e0ba7a0f5796ce",
       "version_major": 2,
       "version_minor": 0
      },
      "text/plain": [
       "  0%|          | 0/2 [00:00<?, ?it/s]"
      ]
     },
     "metadata": {},
     "output_type": "display_data"
    },
    {
     "name": "stdout",
     "output_type": "stream",
     "text": [
      "2021-12-28\n"
     ]
    },
    {
     "data": {
      "application/vnd.jupyter.widget-view+json": {
       "model_id": "57d92ab802154d7ba3ff138c1f5df838",
       "version_major": 2,
       "version_minor": 0
      },
      "text/plain": [
       "  0%|          | 0/3 [00:00<?, ?it/s]"
      ]
     },
     "metadata": {},
     "output_type": "display_data"
    },
    {
     "name": "stdout",
     "output_type": "stream",
     "text": [
      "2021-12-29\n"
     ]
    },
    {
     "data": {
      "application/vnd.jupyter.widget-view+json": {
       "model_id": "36a6803b67264bc8bf9fa5802416dc69",
       "version_major": 2,
       "version_minor": 0
      },
      "text/plain": [
       "  0%|          | 0/2 [00:00<?, ?it/s]"
      ]
     },
     "metadata": {},
     "output_type": "display_data"
    },
    {
     "name": "stdout",
     "output_type": "stream",
     "text": [
      "2021-12-30\n"
     ]
    },
    {
     "data": {
      "application/vnd.jupyter.widget-view+json": {
       "model_id": "f4914597528b49f99813e6410da85ea1",
       "version_major": 2,
       "version_minor": 0
      },
      "text/plain": [
       "  0%|          | 0/1 [00:00<?, ?it/s]"
      ]
     },
     "metadata": {},
     "output_type": "display_data"
    },
    {
     "name": "stdout",
     "output_type": "stream",
     "text": [
      "2021-12-31\n"
     ]
    },
    {
     "data": {
      "application/vnd.jupyter.widget-view+json": {
       "model_id": "9463dd9379964ca0a97b3228f11a46fd",
       "version_major": 2,
       "version_minor": 0
      },
      "text/plain": [
       "  0%|          | 0/1 [00:00<?, ?it/s]"
      ]
     },
     "metadata": {},
     "output_type": "display_data"
    },
    {
     "name": "stdout",
     "output_type": "stream",
     "text": [
      "2022-01-01\n"
     ]
    },
    {
     "data": {
      "application/vnd.jupyter.widget-view+json": {
       "model_id": "73b2626d00844b0f90eb5aecbc5e56ec",
       "version_major": 2,
       "version_minor": 0
      },
      "text/plain": [
       "  0%|          | 0/1 [00:00<?, ?it/s]"
      ]
     },
     "metadata": {},
     "output_type": "display_data"
    },
    {
     "name": "stdout",
     "output_type": "stream",
     "text": [
      "2022-01-02\n"
     ]
    },
    {
     "data": {
      "application/vnd.jupyter.widget-view+json": {
       "model_id": "af2a7f79db064b2ca9a50e42390c2f38",
       "version_major": 2,
       "version_minor": 0
      },
      "text/plain": [
       "  0%|          | 0/1 [00:00<?, ?it/s]"
      ]
     },
     "metadata": {},
     "output_type": "display_data"
    },
    {
     "name": "stdout",
     "output_type": "stream",
     "text": [
      "2022-01-03\n"
     ]
    },
    {
     "data": {
      "application/vnd.jupyter.widget-view+json": {
       "model_id": "f3a1cfc93482435d87587f359cf3551a",
       "version_major": 2,
       "version_minor": 0
      },
      "text/plain": [
       "  0%|          | 0/1 [00:00<?, ?it/s]"
      ]
     },
     "metadata": {},
     "output_type": "display_data"
    },
    {
     "name": "stdout",
     "output_type": "stream",
     "text": [
      "2022-01-04\n"
     ]
    },
    {
     "data": {
      "application/vnd.jupyter.widget-view+json": {
       "model_id": "d58804990d9a446099dc50bdd8cb7580",
       "version_major": 2,
       "version_minor": 0
      },
      "text/plain": [
       "  0%|          | 0/1 [00:00<?, ?it/s]"
      ]
     },
     "metadata": {},
     "output_type": "display_data"
    },
    {
     "name": "stdout",
     "output_type": "stream",
     "text": [
      "2022-01-05\n"
     ]
    },
    {
     "data": {
      "application/vnd.jupyter.widget-view+json": {
       "model_id": "f13e3977fa6e4f5c8ce6196de743f3ad",
       "version_major": 2,
       "version_minor": 0
      },
      "text/plain": [
       "  0%|          | 0/1 [00:00<?, ?it/s]"
      ]
     },
     "metadata": {},
     "output_type": "display_data"
    },
    {
     "name": "stdout",
     "output_type": "stream",
     "text": [
      "2022-01-06\n"
     ]
    },
    {
     "data": {
      "application/vnd.jupyter.widget-view+json": {
       "model_id": "878828700ed9405dbe8dd59537146338",
       "version_major": 2,
       "version_minor": 0
      },
      "text/plain": [
       "  0%|          | 0/1 [00:00<?, ?it/s]"
      ]
     },
     "metadata": {},
     "output_type": "display_data"
    },
    {
     "name": "stdout",
     "output_type": "stream",
     "text": [
      "2022-01-07\n"
     ]
    },
    {
     "data": {
      "application/vnd.jupyter.widget-view+json": {
       "model_id": "6b702ebccc4d4949903905e9a6473279",
       "version_major": 2,
       "version_minor": 0
      },
      "text/plain": [
       "  0%|          | 0/1 [00:00<?, ?it/s]"
      ]
     },
     "metadata": {},
     "output_type": "display_data"
    },
    {
     "name": "stdout",
     "output_type": "stream",
     "text": [
      "2022-01-08\n"
     ]
    },
    {
     "data": {
      "application/vnd.jupyter.widget-view+json": {
       "model_id": "9ff5e4ca12454081b7543cda68315925",
       "version_major": 2,
       "version_minor": 0
      },
      "text/plain": [
       "  0%|          | 0/1 [00:00<?, ?it/s]"
      ]
     },
     "metadata": {},
     "output_type": "display_data"
    },
    {
     "name": "stdout",
     "output_type": "stream",
     "text": [
      "2022-01-09\n"
     ]
    },
    {
     "data": {
      "application/vnd.jupyter.widget-view+json": {
       "model_id": "529fb5410c6e48dca5c8b35d234cd045",
       "version_major": 2,
       "version_minor": 0
      },
      "text/plain": [
       "  0%|          | 0/4 [00:00<?, ?it/s]"
      ]
     },
     "metadata": {},
     "output_type": "display_data"
    },
    {
     "name": "stdout",
     "output_type": "stream",
     "text": [
      "2022-01-10\n"
     ]
    },
    {
     "data": {
      "application/vnd.jupyter.widget-view+json": {
       "model_id": "8c3ea0421f07475eb41054d22a42ae63",
       "version_major": 2,
       "version_minor": 0
      },
      "text/plain": [
       "  0%|          | 0/4 [00:00<?, ?it/s]"
      ]
     },
     "metadata": {},
     "output_type": "display_data"
    },
    {
     "name": "stdout",
     "output_type": "stream",
     "text": [
      "2022-01-11\n"
     ]
    },
    {
     "data": {
      "application/vnd.jupyter.widget-view+json": {
       "model_id": "88dfa216927d4dc4b653278006f3b369",
       "version_major": 2,
       "version_minor": 0
      },
      "text/plain": [
       "  0%|          | 0/3 [00:00<?, ?it/s]"
      ]
     },
     "metadata": {},
     "output_type": "display_data"
    },
    {
     "name": "stdout",
     "output_type": "stream",
     "text": [
      "2022-01-12\n"
     ]
    },
    {
     "data": {
      "application/vnd.jupyter.widget-view+json": {
       "model_id": "ba5e48c25e0a4bd0820d7af292014013",
       "version_major": 2,
       "version_minor": 0
      },
      "text/plain": [
       "  0%|          | 0/4 [00:00<?, ?it/s]"
      ]
     },
     "metadata": {},
     "output_type": "display_data"
    },
    {
     "name": "stdout",
     "output_type": "stream",
     "text": [
      "2022-01-13\n"
     ]
    },
    {
     "data": {
      "application/vnd.jupyter.widget-view+json": {
       "model_id": "74ce16959a7d4a0581ee347864a3c806",
       "version_major": 2,
       "version_minor": 0
      },
      "text/plain": [
       "  0%|          | 0/3 [00:00<?, ?it/s]"
      ]
     },
     "metadata": {},
     "output_type": "display_data"
    },
    {
     "name": "stdout",
     "output_type": "stream",
     "text": [
      "2022-01-14\n"
     ]
    },
    {
     "data": {
      "application/vnd.jupyter.widget-view+json": {
       "model_id": "a6885e42d0e6447d83f96a8c4870e9ce",
       "version_major": 2,
       "version_minor": 0
      },
      "text/plain": [
       "  0%|          | 0/1 [00:00<?, ?it/s]"
      ]
     },
     "metadata": {},
     "output_type": "display_data"
    },
    {
     "name": "stdout",
     "output_type": "stream",
     "text": [
      "2022-01-15\n"
     ]
    },
    {
     "data": {
      "application/vnd.jupyter.widget-view+json": {
       "model_id": "94e11a5787c34414aafc185ee814b5f8",
       "version_major": 2,
       "version_minor": 0
      },
      "text/plain": [
       "  0%|          | 0/1 [00:00<?, ?it/s]"
      ]
     },
     "metadata": {},
     "output_type": "display_data"
    },
    {
     "name": "stdout",
     "output_type": "stream",
     "text": [
      "2022-01-16\n"
     ]
    },
    {
     "data": {
      "application/vnd.jupyter.widget-view+json": {
       "model_id": "8197d531cfc74d4c9f697bbd530cdafc",
       "version_major": 2,
       "version_minor": 0
      },
      "text/plain": [
       "  0%|          | 0/5 [00:00<?, ?it/s]"
      ]
     },
     "metadata": {},
     "output_type": "display_data"
    },
    {
     "name": "stdout",
     "output_type": "stream",
     "text": [
      "2022-01-17\n"
     ]
    },
    {
     "data": {
      "application/vnd.jupyter.widget-view+json": {
       "model_id": "c2f0c970976844cabb616328d27d18a9",
       "version_major": 2,
       "version_minor": 0
      },
      "text/plain": [
       "  0%|          | 0/4 [00:00<?, ?it/s]"
      ]
     },
     "metadata": {},
     "output_type": "display_data"
    },
    {
     "name": "stdout",
     "output_type": "stream",
     "text": [
      "2022-01-18\n"
     ]
    },
    {
     "data": {
      "application/vnd.jupyter.widget-view+json": {
       "model_id": "852b42c4972940d39299c2b6e8e23531",
       "version_major": 2,
       "version_minor": 0
      },
      "text/plain": [
       "  0%|          | 0/4 [00:00<?, ?it/s]"
      ]
     },
     "metadata": {},
     "output_type": "display_data"
    },
    {
     "name": "stdout",
     "output_type": "stream",
     "text": [
      "2022-01-19\n"
     ]
    },
    {
     "data": {
      "application/vnd.jupyter.widget-view+json": {
       "model_id": "fc319904fc1f4a04bd4480ed21b199af",
       "version_major": 2,
       "version_minor": 0
      },
      "text/plain": [
       "  0%|          | 0/8 [00:00<?, ?it/s]"
      ]
     },
     "metadata": {},
     "output_type": "display_data"
    },
    {
     "name": "stdout",
     "output_type": "stream",
     "text": [
      "2022-01-20\n"
     ]
    },
    {
     "data": {
      "application/vnd.jupyter.widget-view+json": {
       "model_id": "12c05e9b9e3f4a24a2507f3a33fde1ef",
       "version_major": 2,
       "version_minor": 0
      },
      "text/plain": [
       "  0%|          | 0/1 [00:00<?, ?it/s]"
      ]
     },
     "metadata": {},
     "output_type": "display_data"
    }
   ],
   "source": [
    "# Все описания этих вакансий\n",
    "last_date = datetime.datetime.today()+relativedelta(days=1)\n",
    "first_date = datetime.datetime.today()-relativedelta(months=2)\n",
    "\n",
    "vacancies_info=[]\n",
    "while first_date <= last_date:\n",
    "    print((first_date-relativedelta(days=1)).strftime('%Y-%m-%d'))\n",
    "    for page in tqdm(range(json.loads(getPage(0)).get('pages'))):\n",
    "        vacancies = json.loads(getPage(page))\n",
    "        vacancy_ids = [el.get('name') for el in vacancies.get('items')]\n",
    "        vacancies_info.extend(vacancy_ids)\n",
    "    first_date += datetime.timedelta(days = 1)\n"
   ]
  },
  {
   "cell_type": "code",
   "execution_count": 4,
   "metadata": {},
   "outputs": [
    {
     "name": "stdout",
     "output_type": "stream",
     "text": [
      "2021-11-19\n"
     ]
    },
    {
     "data": {
      "application/vnd.jupyter.widget-view+json": {
       "model_id": "c9477ac5af28497cb419b0dc08fc9623",
       "version_major": 2,
       "version_minor": 0
      },
      "text/plain": [
       "  0%|          | 0/1 [00:00<?, ?it/s]"
      ]
     },
     "metadata": {},
     "output_type": "display_data"
    },
    {
     "name": "stdout",
     "output_type": "stream",
     "text": [
      "2021-11-20\n"
     ]
    },
    {
     "data": {
      "application/vnd.jupyter.widget-view+json": {
       "model_id": "83332c3be7bb45ecbd6158ede9dcd789",
       "version_major": 2,
       "version_minor": 0
      },
      "text/plain": [
       "  0%|          | 0/1 [00:00<?, ?it/s]"
      ]
     },
     "metadata": {},
     "output_type": "display_data"
    },
    {
     "name": "stdout",
     "output_type": "stream",
     "text": [
      "2021-11-21\n"
     ]
    },
    {
     "data": {
      "application/vnd.jupyter.widget-view+json": {
       "model_id": "e2672a2f31d04d1a859b739f1f7304f2",
       "version_major": 2,
       "version_minor": 0
      },
      "text/plain": [
       "  0%|          | 0/1 [00:00<?, ?it/s]"
      ]
     },
     "metadata": {},
     "output_type": "display_data"
    },
    {
     "name": "stdout",
     "output_type": "stream",
     "text": [
      "2021-11-22\n"
     ]
    },
    {
     "data": {
      "application/vnd.jupyter.widget-view+json": {
       "model_id": "fcf19d8400184935a68acd07ea128ba3",
       "version_major": 2,
       "version_minor": 0
      },
      "text/plain": [
       "  0%|          | 0/1 [00:00<?, ?it/s]"
      ]
     },
     "metadata": {},
     "output_type": "display_data"
    },
    {
     "name": "stdout",
     "output_type": "stream",
     "text": [
      "2021-11-23\n"
     ]
    },
    {
     "data": {
      "application/vnd.jupyter.widget-view+json": {
       "model_id": "e8273b5f8f14413bb432c6e0219b0927",
       "version_major": 2,
       "version_minor": 0
      },
      "text/plain": [
       "  0%|          | 0/1 [00:00<?, ?it/s]"
      ]
     },
     "metadata": {},
     "output_type": "display_data"
    },
    {
     "name": "stdout",
     "output_type": "stream",
     "text": [
      "2021-11-24\n"
     ]
    },
    {
     "data": {
      "application/vnd.jupyter.widget-view+json": {
       "model_id": "0f924e98b2cd42b099ca9a6422ef669f",
       "version_major": 2,
       "version_minor": 0
      },
      "text/plain": [
       "  0%|          | 0/1 [00:00<?, ?it/s]"
      ]
     },
     "metadata": {},
     "output_type": "display_data"
    },
    {
     "name": "stdout",
     "output_type": "stream",
     "text": [
      "2021-11-25\n"
     ]
    },
    {
     "data": {
      "application/vnd.jupyter.widget-view+json": {
       "model_id": "5208a520fa614475abefae21e48e1819",
       "version_major": 2,
       "version_minor": 0
      },
      "text/plain": [
       "  0%|          | 0/1 [00:00<?, ?it/s]"
      ]
     },
     "metadata": {},
     "output_type": "display_data"
    },
    {
     "name": "stdout",
     "output_type": "stream",
     "text": [
      "2021-11-26\n"
     ]
    },
    {
     "data": {
      "application/vnd.jupyter.widget-view+json": {
       "model_id": "375150d6e9d04a16a1b7dfa0e4446b16",
       "version_major": 2,
       "version_minor": 0
      },
      "text/plain": [
       "  0%|          | 0/1 [00:00<?, ?it/s]"
      ]
     },
     "metadata": {},
     "output_type": "display_data"
    },
    {
     "name": "stdout",
     "output_type": "stream",
     "text": [
      "2021-11-27\n"
     ]
    },
    {
     "data": {
      "application/vnd.jupyter.widget-view+json": {
       "model_id": "6c161613f19e43ebb8edd87d3be9275d",
       "version_major": 2,
       "version_minor": 0
      },
      "text/plain": [
       "  0%|          | 0/1 [00:00<?, ?it/s]"
      ]
     },
     "metadata": {},
     "output_type": "display_data"
    },
    {
     "name": "stdout",
     "output_type": "stream",
     "text": [
      "2021-11-28\n"
     ]
    },
    {
     "data": {
      "application/vnd.jupyter.widget-view+json": {
       "model_id": "91e798df77344cf9b3bd3ea47171a55b",
       "version_major": 2,
       "version_minor": 0
      },
      "text/plain": [
       "  0%|          | 0/1 [00:00<?, ?it/s]"
      ]
     },
     "metadata": {},
     "output_type": "display_data"
    },
    {
     "name": "stdout",
     "output_type": "stream",
     "text": [
      "2021-11-29\n"
     ]
    },
    {
     "data": {
      "application/vnd.jupyter.widget-view+json": {
       "model_id": "f283744665884e01a91e09ee224fc692",
       "version_major": 2,
       "version_minor": 0
      },
      "text/plain": [
       "  0%|          | 0/1 [00:00<?, ?it/s]"
      ]
     },
     "metadata": {},
     "output_type": "display_data"
    },
    {
     "name": "stdout",
     "output_type": "stream",
     "text": [
      "2021-11-30\n"
     ]
    },
    {
     "data": {
      "application/vnd.jupyter.widget-view+json": {
       "model_id": "fb146fb867374ffa8908434ef804cacb",
       "version_major": 2,
       "version_minor": 0
      },
      "text/plain": [
       "  0%|          | 0/1 [00:00<?, ?it/s]"
      ]
     },
     "metadata": {},
     "output_type": "display_data"
    },
    {
     "name": "stdout",
     "output_type": "stream",
     "text": [
      "2021-12-01\n"
     ]
    },
    {
     "data": {
      "application/vnd.jupyter.widget-view+json": {
       "model_id": "525b50cd6a554dc7a513b9667ea7fd26",
       "version_major": 2,
       "version_minor": 0
      },
      "text/plain": [
       "  0%|          | 0/1 [00:00<?, ?it/s]"
      ]
     },
     "metadata": {},
     "output_type": "display_data"
    },
    {
     "name": "stdout",
     "output_type": "stream",
     "text": [
      "2021-12-02\n"
     ]
    },
    {
     "data": {
      "application/vnd.jupyter.widget-view+json": {
       "model_id": "e6f33f0024294135abf731c34381a2e3",
       "version_major": 2,
       "version_minor": 0
      },
      "text/plain": [
       "  0%|          | 0/1 [00:00<?, ?it/s]"
      ]
     },
     "metadata": {},
     "output_type": "display_data"
    },
    {
     "name": "stdout",
     "output_type": "stream",
     "text": [
      "2021-12-03\n"
     ]
    },
    {
     "data": {
      "application/vnd.jupyter.widget-view+json": {
       "model_id": "ab4320dd30cb42f7bff2aba4cb07b501",
       "version_major": 2,
       "version_minor": 0
      },
      "text/plain": [
       "  0%|          | 0/1 [00:00<?, ?it/s]"
      ]
     },
     "metadata": {},
     "output_type": "display_data"
    },
    {
     "name": "stdout",
     "output_type": "stream",
     "text": [
      "2021-12-04\n"
     ]
    },
    {
     "data": {
      "application/vnd.jupyter.widget-view+json": {
       "model_id": "e4a3b2d995c14aacae2b7c96999de5be",
       "version_major": 2,
       "version_minor": 0
      },
      "text/plain": [
       "  0%|          | 0/1 [00:00<?, ?it/s]"
      ]
     },
     "metadata": {},
     "output_type": "display_data"
    },
    {
     "name": "stdout",
     "output_type": "stream",
     "text": [
      "2021-12-05\n"
     ]
    },
    {
     "data": {
      "application/vnd.jupyter.widget-view+json": {
       "model_id": "32f83953a3d74c7ba97d203e518c1908",
       "version_major": 2,
       "version_minor": 0
      },
      "text/plain": [
       "  0%|          | 0/1 [00:00<?, ?it/s]"
      ]
     },
     "metadata": {},
     "output_type": "display_data"
    },
    {
     "name": "stdout",
     "output_type": "stream",
     "text": [
      "2021-12-06\n"
     ]
    },
    {
     "data": {
      "application/vnd.jupyter.widget-view+json": {
       "model_id": "16610bca6ecf490798bb471e13510c00",
       "version_major": 2,
       "version_minor": 0
      },
      "text/plain": [
       "  0%|          | 0/1 [00:00<?, ?it/s]"
      ]
     },
     "metadata": {},
     "output_type": "display_data"
    },
    {
     "name": "stdout",
     "output_type": "stream",
     "text": [
      "2021-12-07\n"
     ]
    },
    {
     "data": {
      "application/vnd.jupyter.widget-view+json": {
       "model_id": "80f47c32eb3f483ca05dceeb86b84907",
       "version_major": 2,
       "version_minor": 0
      },
      "text/plain": [
       "  0%|          | 0/1 [00:00<?, ?it/s]"
      ]
     },
     "metadata": {},
     "output_type": "display_data"
    },
    {
     "name": "stdout",
     "output_type": "stream",
     "text": [
      "2021-12-08\n"
     ]
    },
    {
     "data": {
      "application/vnd.jupyter.widget-view+json": {
       "model_id": "f6ffa819e29d4d6ca80bc4bcb813ca01",
       "version_major": 2,
       "version_minor": 0
      },
      "text/plain": [
       "  0%|          | 0/1 [00:00<?, ?it/s]"
      ]
     },
     "metadata": {},
     "output_type": "display_data"
    },
    {
     "name": "stdout",
     "output_type": "stream",
     "text": [
      "2021-12-09\n"
     ]
    },
    {
     "data": {
      "application/vnd.jupyter.widget-view+json": {
       "model_id": "bb0fd3ef767346baa068788bbd4c4590",
       "version_major": 2,
       "version_minor": 0
      },
      "text/plain": [
       "  0%|          | 0/1 [00:00<?, ?it/s]"
      ]
     },
     "metadata": {},
     "output_type": "display_data"
    },
    {
     "name": "stdout",
     "output_type": "stream",
     "text": [
      "2021-12-10\n"
     ]
    },
    {
     "data": {
      "application/vnd.jupyter.widget-view+json": {
       "model_id": "2af396704dbb4e5ca5e0bcb709cb83be",
       "version_major": 2,
       "version_minor": 0
      },
      "text/plain": [
       "  0%|          | 0/1 [00:00<?, ?it/s]"
      ]
     },
     "metadata": {},
     "output_type": "display_data"
    },
    {
     "name": "stdout",
     "output_type": "stream",
     "text": [
      "2021-12-11\n"
     ]
    },
    {
     "data": {
      "application/vnd.jupyter.widget-view+json": {
       "model_id": "6a4430e00a1a4684bc8a00ad844542a6",
       "version_major": 2,
       "version_minor": 0
      },
      "text/plain": [
       "  0%|          | 0/1 [00:00<?, ?it/s]"
      ]
     },
     "metadata": {},
     "output_type": "display_data"
    },
    {
     "name": "stdout",
     "output_type": "stream",
     "text": [
      "2021-12-12\n"
     ]
    },
    {
     "data": {
      "application/vnd.jupyter.widget-view+json": {
       "model_id": "5596a5fb4a404b76b2c3ddddc3f6f2b4",
       "version_major": 2,
       "version_minor": 0
      },
      "text/plain": [
       "  0%|          | 0/1 [00:00<?, ?it/s]"
      ]
     },
     "metadata": {},
     "output_type": "display_data"
    },
    {
     "name": "stdout",
     "output_type": "stream",
     "text": [
      "2021-12-13\n"
     ]
    },
    {
     "data": {
      "application/vnd.jupyter.widget-view+json": {
       "model_id": "01f085cd6d4644689844d3ecd7340a48",
       "version_major": 2,
       "version_minor": 0
      },
      "text/plain": [
       "  0%|          | 0/2 [00:00<?, ?it/s]"
      ]
     },
     "metadata": {},
     "output_type": "display_data"
    },
    {
     "name": "stdout",
     "output_type": "stream",
     "text": [
      "2021-12-14\n"
     ]
    },
    {
     "data": {
      "application/vnd.jupyter.widget-view+json": {
       "model_id": "ad4354b8e07d491b9a5d60a2fbf29bc5",
       "version_major": 2,
       "version_minor": 0
      },
      "text/plain": [
       "  0%|          | 0/1 [00:00<?, ?it/s]"
      ]
     },
     "metadata": {},
     "output_type": "display_data"
    },
    {
     "name": "stdout",
     "output_type": "stream",
     "text": [
      "2021-12-15\n"
     ]
    },
    {
     "data": {
      "application/vnd.jupyter.widget-view+json": {
       "model_id": "dba2ee709768456dbc4addde82058891",
       "version_major": 2,
       "version_minor": 0
      },
      "text/plain": [
       "  0%|          | 0/1 [00:00<?, ?it/s]"
      ]
     },
     "metadata": {},
     "output_type": "display_data"
    },
    {
     "name": "stdout",
     "output_type": "stream",
     "text": [
      "2021-12-16\n"
     ]
    },
    {
     "data": {
      "application/vnd.jupyter.widget-view+json": {
       "model_id": "23dc286ddfa14d39a7c59b9cc580a6b8",
       "version_major": 2,
       "version_minor": 0
      },
      "text/plain": [
       "  0%|          | 0/2 [00:00<?, ?it/s]"
      ]
     },
     "metadata": {},
     "output_type": "display_data"
    },
    {
     "name": "stdout",
     "output_type": "stream",
     "text": [
      "2021-12-17\n"
     ]
    },
    {
     "data": {
      "application/vnd.jupyter.widget-view+json": {
       "model_id": "dee1c4912fe1468e8cee0b5c77e1b192",
       "version_major": 2,
       "version_minor": 0
      },
      "text/plain": [
       "  0%|          | 0/1 [00:00<?, ?it/s]"
      ]
     },
     "metadata": {},
     "output_type": "display_data"
    },
    {
     "name": "stdout",
     "output_type": "stream",
     "text": [
      "2021-12-18\n"
     ]
    },
    {
     "data": {
      "application/vnd.jupyter.widget-view+json": {
       "model_id": "047ae393243846208a3544bf616046f0",
       "version_major": 2,
       "version_minor": 0
      },
      "text/plain": [
       "  0%|          | 0/1 [00:00<?, ?it/s]"
      ]
     },
     "metadata": {},
     "output_type": "display_data"
    },
    {
     "name": "stdout",
     "output_type": "stream",
     "text": [
      "2021-12-19\n"
     ]
    },
    {
     "data": {
      "application/vnd.jupyter.widget-view+json": {
       "model_id": "f83da1ed561a4d688861ec85f0c4935b",
       "version_major": 2,
       "version_minor": 0
      },
      "text/plain": [
       "  0%|          | 0/2 [00:00<?, ?it/s]"
      ]
     },
     "metadata": {},
     "output_type": "display_data"
    },
    {
     "name": "stdout",
     "output_type": "stream",
     "text": [
      "2021-12-20\n"
     ]
    },
    {
     "data": {
      "application/vnd.jupyter.widget-view+json": {
       "model_id": "cff7c5f0ef614b73a522f2c70acec297",
       "version_major": 2,
       "version_minor": 0
      },
      "text/plain": [
       "  0%|          | 0/2 [00:00<?, ?it/s]"
      ]
     },
     "metadata": {},
     "output_type": "display_data"
    },
    {
     "name": "stdout",
     "output_type": "stream",
     "text": [
      "2021-12-21\n"
     ]
    },
    {
     "data": {
      "application/vnd.jupyter.widget-view+json": {
       "model_id": "143bc88daf8548a5a1c408b790603d21",
       "version_major": 2,
       "version_minor": 0
      },
      "text/plain": [
       "  0%|          | 0/2 [00:00<?, ?it/s]"
      ]
     },
     "metadata": {},
     "output_type": "display_data"
    },
    {
     "name": "stdout",
     "output_type": "stream",
     "text": [
      "2021-12-22\n"
     ]
    },
    {
     "data": {
      "application/vnd.jupyter.widget-view+json": {
       "model_id": "05975027787246efa7e68c6a07f19388",
       "version_major": 2,
       "version_minor": 0
      },
      "text/plain": [
       "  0%|          | 0/2 [00:00<?, ?it/s]"
      ]
     },
     "metadata": {},
     "output_type": "display_data"
    },
    {
     "name": "stdout",
     "output_type": "stream",
     "text": [
      "2021-12-23\n"
     ]
    },
    {
     "data": {
      "application/vnd.jupyter.widget-view+json": {
       "model_id": "bdbc654094004a8488fb5386fd22f4c3",
       "version_major": 2,
       "version_minor": 0
      },
      "text/plain": [
       "  0%|          | 0/2 [00:00<?, ?it/s]"
      ]
     },
     "metadata": {},
     "output_type": "display_data"
    },
    {
     "name": "stdout",
     "output_type": "stream",
     "text": [
      "2021-12-24\n"
     ]
    },
    {
     "data": {
      "application/vnd.jupyter.widget-view+json": {
       "model_id": "5a01f31409b348ca8934dfb45c4f1419",
       "version_major": 2,
       "version_minor": 0
      },
      "text/plain": [
       "  0%|          | 0/1 [00:00<?, ?it/s]"
      ]
     },
     "metadata": {},
     "output_type": "display_data"
    },
    {
     "name": "stdout",
     "output_type": "stream",
     "text": [
      "2021-12-25\n"
     ]
    },
    {
     "data": {
      "application/vnd.jupyter.widget-view+json": {
       "model_id": "b4f89380e9534ce18d00e033a852d6df",
       "version_major": 2,
       "version_minor": 0
      },
      "text/plain": [
       "  0%|          | 0/1 [00:00<?, ?it/s]"
      ]
     },
     "metadata": {},
     "output_type": "display_data"
    },
    {
     "name": "stdout",
     "output_type": "stream",
     "text": [
      "2021-12-26\n"
     ]
    },
    {
     "data": {
      "application/vnd.jupyter.widget-view+json": {
       "model_id": "b967b56d30974713a21a78a2a7c44a58",
       "version_major": 2,
       "version_minor": 0
      },
      "text/plain": [
       "  0%|          | 0/3 [00:00<?, ?it/s]"
      ]
     },
     "metadata": {},
     "output_type": "display_data"
    },
    {
     "name": "stdout",
     "output_type": "stream",
     "text": [
      "2021-12-27\n"
     ]
    },
    {
     "data": {
      "application/vnd.jupyter.widget-view+json": {
       "model_id": "a9c43c0d46e248ab9da247762daa6294",
       "version_major": 2,
       "version_minor": 0
      },
      "text/plain": [
       "  0%|          | 0/2 [00:00<?, ?it/s]"
      ]
     },
     "metadata": {},
     "output_type": "display_data"
    },
    {
     "name": "stdout",
     "output_type": "stream",
     "text": [
      "2021-12-28\n"
     ]
    },
    {
     "data": {
      "application/vnd.jupyter.widget-view+json": {
       "model_id": "dfe648575d644b38a0934833b3c7e4ab",
       "version_major": 2,
       "version_minor": 0
      },
      "text/plain": [
       "  0%|          | 0/3 [00:00<?, ?it/s]"
      ]
     },
     "metadata": {},
     "output_type": "display_data"
    },
    {
     "name": "stdout",
     "output_type": "stream",
     "text": [
      "2021-12-29\n"
     ]
    },
    {
     "data": {
      "application/vnd.jupyter.widget-view+json": {
       "model_id": "959e193c2f13497fa3885b6c8a57f1e8",
       "version_major": 2,
       "version_minor": 0
      },
      "text/plain": [
       "  0%|          | 0/2 [00:00<?, ?it/s]"
      ]
     },
     "metadata": {},
     "output_type": "display_data"
    },
    {
     "name": "stdout",
     "output_type": "stream",
     "text": [
      "2021-12-30\n"
     ]
    },
    {
     "data": {
      "application/vnd.jupyter.widget-view+json": {
       "model_id": "81e27f2ec045475b93d2cd5c89e96ea1",
       "version_major": 2,
       "version_minor": 0
      },
      "text/plain": [
       "  0%|          | 0/1 [00:00<?, ?it/s]"
      ]
     },
     "metadata": {},
     "output_type": "display_data"
    },
    {
     "name": "stdout",
     "output_type": "stream",
     "text": [
      "2021-12-31\n"
     ]
    },
    {
     "data": {
      "application/vnd.jupyter.widget-view+json": {
       "model_id": "6c097016f7804b4bb18483bbdc0f14fa",
       "version_major": 2,
       "version_minor": 0
      },
      "text/plain": [
       "  0%|          | 0/1 [00:00<?, ?it/s]"
      ]
     },
     "metadata": {},
     "output_type": "display_data"
    },
    {
     "name": "stdout",
     "output_type": "stream",
     "text": [
      "2022-01-01\n"
     ]
    },
    {
     "data": {
      "application/vnd.jupyter.widget-view+json": {
       "model_id": "be3d6610fc60482cbf647da2594ef761",
       "version_major": 2,
       "version_minor": 0
      },
      "text/plain": [
       "  0%|          | 0/1 [00:00<?, ?it/s]"
      ]
     },
     "metadata": {},
     "output_type": "display_data"
    },
    {
     "name": "stdout",
     "output_type": "stream",
     "text": [
      "2022-01-02\n"
     ]
    },
    {
     "data": {
      "application/vnd.jupyter.widget-view+json": {
       "model_id": "7822a46a51014cbe8be32dce606b73b6",
       "version_major": 2,
       "version_minor": 0
      },
      "text/plain": [
       "  0%|          | 0/1 [00:00<?, ?it/s]"
      ]
     },
     "metadata": {},
     "output_type": "display_data"
    },
    {
     "name": "stdout",
     "output_type": "stream",
     "text": [
      "2022-01-03\n"
     ]
    },
    {
     "data": {
      "application/vnd.jupyter.widget-view+json": {
       "model_id": "f5680c9e53c648a5af27e6a167cb637a",
       "version_major": 2,
       "version_minor": 0
      },
      "text/plain": [
       "  0%|          | 0/1 [00:00<?, ?it/s]"
      ]
     },
     "metadata": {},
     "output_type": "display_data"
    },
    {
     "name": "stdout",
     "output_type": "stream",
     "text": [
      "2022-01-04\n"
     ]
    },
    {
     "data": {
      "application/vnd.jupyter.widget-view+json": {
       "model_id": "b16afba3f3cf47a3bda0cfb09cf6a840",
       "version_major": 2,
       "version_minor": 0
      },
      "text/plain": [
       "  0%|          | 0/1 [00:00<?, ?it/s]"
      ]
     },
     "metadata": {},
     "output_type": "display_data"
    },
    {
     "name": "stdout",
     "output_type": "stream",
     "text": [
      "2022-01-05\n"
     ]
    },
    {
     "data": {
      "application/vnd.jupyter.widget-view+json": {
       "model_id": "f903997ca6fb488791ab86b1c8d1f4ca",
       "version_major": 2,
       "version_minor": 0
      },
      "text/plain": [
       "  0%|          | 0/1 [00:00<?, ?it/s]"
      ]
     },
     "metadata": {},
     "output_type": "display_data"
    },
    {
     "name": "stdout",
     "output_type": "stream",
     "text": [
      "2022-01-06\n"
     ]
    },
    {
     "data": {
      "application/vnd.jupyter.widget-view+json": {
       "model_id": "d00a2e8bbf8a4925b670b639e97c8e08",
       "version_major": 2,
       "version_minor": 0
      },
      "text/plain": [
       "  0%|          | 0/1 [00:00<?, ?it/s]"
      ]
     },
     "metadata": {},
     "output_type": "display_data"
    },
    {
     "name": "stdout",
     "output_type": "stream",
     "text": [
      "2022-01-07\n"
     ]
    },
    {
     "data": {
      "application/vnd.jupyter.widget-view+json": {
       "model_id": "a84ffb3f7e134238a2f37be4bccfa48d",
       "version_major": 2,
       "version_minor": 0
      },
      "text/plain": [
       "  0%|          | 0/1 [00:00<?, ?it/s]"
      ]
     },
     "metadata": {},
     "output_type": "display_data"
    },
    {
     "name": "stdout",
     "output_type": "stream",
     "text": [
      "2022-01-08\n"
     ]
    },
    {
     "data": {
      "application/vnd.jupyter.widget-view+json": {
       "model_id": "a6fc8c4c192848f189fa9adc91432d51",
       "version_major": 2,
       "version_minor": 0
      },
      "text/plain": [
       "  0%|          | 0/1 [00:00<?, ?it/s]"
      ]
     },
     "metadata": {},
     "output_type": "display_data"
    },
    {
     "name": "stdout",
     "output_type": "stream",
     "text": [
      "2022-01-09\n"
     ]
    },
    {
     "data": {
      "application/vnd.jupyter.widget-view+json": {
       "model_id": "8e856f2cd4064adab82802abfdd49535",
       "version_major": 2,
       "version_minor": 0
      },
      "text/plain": [
       "  0%|          | 0/4 [00:00<?, ?it/s]"
      ]
     },
     "metadata": {},
     "output_type": "display_data"
    },
    {
     "name": "stdout",
     "output_type": "stream",
     "text": [
      "2022-01-10\n"
     ]
    },
    {
     "data": {
      "application/vnd.jupyter.widget-view+json": {
       "model_id": "d70ec441f49c48f1bd7dbe993ea2e871",
       "version_major": 2,
       "version_minor": 0
      },
      "text/plain": [
       "  0%|          | 0/4 [00:00<?, ?it/s]"
      ]
     },
     "metadata": {},
     "output_type": "display_data"
    },
    {
     "name": "stdout",
     "output_type": "stream",
     "text": [
      "2022-01-11\n"
     ]
    },
    {
     "data": {
      "application/vnd.jupyter.widget-view+json": {
       "model_id": "e61d2b41245443b0842cce7b00b31a34",
       "version_major": 2,
       "version_minor": 0
      },
      "text/plain": [
       "  0%|          | 0/3 [00:00<?, ?it/s]"
      ]
     },
     "metadata": {},
     "output_type": "display_data"
    },
    {
     "name": "stdout",
     "output_type": "stream",
     "text": [
      "2022-01-12\n"
     ]
    },
    {
     "data": {
      "application/vnd.jupyter.widget-view+json": {
       "model_id": "b526b971e48843fdb806ebff37282467",
       "version_major": 2,
       "version_minor": 0
      },
      "text/plain": [
       "  0%|          | 0/4 [00:00<?, ?it/s]"
      ]
     },
     "metadata": {},
     "output_type": "display_data"
    },
    {
     "name": "stdout",
     "output_type": "stream",
     "text": [
      "2022-01-13\n"
     ]
    },
    {
     "data": {
      "application/vnd.jupyter.widget-view+json": {
       "model_id": "f00fc65158fb4ec2bfcbfe1382d4bd59",
       "version_major": 2,
       "version_minor": 0
      },
      "text/plain": [
       "  0%|          | 0/3 [00:00<?, ?it/s]"
      ]
     },
     "metadata": {},
     "output_type": "display_data"
    },
    {
     "name": "stdout",
     "output_type": "stream",
     "text": [
      "2022-01-14\n"
     ]
    },
    {
     "data": {
      "application/vnd.jupyter.widget-view+json": {
       "model_id": "050ed6ad416549848e6372ffed5c9e42",
       "version_major": 2,
       "version_minor": 0
      },
      "text/plain": [
       "  0%|          | 0/1 [00:00<?, ?it/s]"
      ]
     },
     "metadata": {},
     "output_type": "display_data"
    },
    {
     "name": "stdout",
     "output_type": "stream",
     "text": [
      "2022-01-15\n"
     ]
    },
    {
     "data": {
      "application/vnd.jupyter.widget-view+json": {
       "model_id": "a50a7fffb6fd42ada1a26a5ebe9ae65e",
       "version_major": 2,
       "version_minor": 0
      },
      "text/plain": [
       "  0%|          | 0/1 [00:00<?, ?it/s]"
      ]
     },
     "metadata": {},
     "output_type": "display_data"
    },
    {
     "name": "stdout",
     "output_type": "stream",
     "text": [
      "2022-01-16\n"
     ]
    },
    {
     "data": {
      "application/vnd.jupyter.widget-view+json": {
       "model_id": "1c09aafa63fe42de8e1910b4f3fd4141",
       "version_major": 2,
       "version_minor": 0
      },
      "text/plain": [
       "  0%|          | 0/5 [00:00<?, ?it/s]"
      ]
     },
     "metadata": {},
     "output_type": "display_data"
    },
    {
     "name": "stdout",
     "output_type": "stream",
     "text": [
      "2022-01-17\n"
     ]
    },
    {
     "data": {
      "application/vnd.jupyter.widget-view+json": {
       "model_id": "10c4305b96484f2abe69776965addd7c",
       "version_major": 2,
       "version_minor": 0
      },
      "text/plain": [
       "  0%|          | 0/4 [00:00<?, ?it/s]"
      ]
     },
     "metadata": {},
     "output_type": "display_data"
    },
    {
     "name": "stdout",
     "output_type": "stream",
     "text": [
      "2022-01-18\n"
     ]
    },
    {
     "data": {
      "application/vnd.jupyter.widget-view+json": {
       "model_id": "89a3b780bdca4527bcd02aa2deda16f2",
       "version_major": 2,
       "version_minor": 0
      },
      "text/plain": [
       "  0%|          | 0/4 [00:00<?, ?it/s]"
      ]
     },
     "metadata": {},
     "output_type": "display_data"
    },
    {
     "name": "stdout",
     "output_type": "stream",
     "text": [
      "2022-01-19\n"
     ]
    },
    {
     "data": {
      "application/vnd.jupyter.widget-view+json": {
       "model_id": "cb84c21fd1224091ac90e8449563c3f4",
       "version_major": 2,
       "version_minor": 0
      },
      "text/plain": [
       "  0%|          | 0/8 [00:00<?, ?it/s]"
      ]
     },
     "metadata": {},
     "output_type": "display_data"
    }
   ],
   "source": [
    "# Vacancy DataFrame с полем skills\n",
    "\n",
    "last_date = datetime.datetime.today()+relativedelta(days=1)\n",
    "first_date = datetime.datetime.today()-relativedelta(months=2)\n",
    "\n",
    "vacancies_skills=[]\n",
    "while first_date <= last_date:\n",
    "    print((first_date-relativedelta(days=1)).strftime('%Y-%m-%d'))\n",
    "    for page in tqdm(range(json.loads(getPage(0)).get('pages'))):\n",
    "        vacancies = json.loads(getPage(page))\n",
    "        vacancy_ids = [{el.get('name'): (el.get('snippet')).get('requirement')} for el in vacancies.get('items')]\n",
    "        vacancies_skills.extend(vacancy_ids)\n",
    "    first_date += datetime.timedelta(days = 1)"
   ]
  },
  {
   "cell_type": "code",
   "execution_count": 5,
   "metadata": {},
   "outputs": [
    {
     "name": "stdout",
     "output_type": "stream",
     "text": [
      "2021-11-19\n"
     ]
    },
    {
     "data": {
      "application/vnd.jupyter.widget-view+json": {
       "model_id": "b9361875a6354409956040eb3c8d919d",
       "version_major": 2,
       "version_minor": 0
      },
      "text/plain": [
       "  0%|          | 0/1 [00:00<?, ?it/s]"
      ]
     },
     "metadata": {},
     "output_type": "display_data"
    },
    {
     "name": "stdout",
     "output_type": "stream",
     "text": [
      "2021-11-20\n"
     ]
    },
    {
     "data": {
      "application/vnd.jupyter.widget-view+json": {
       "model_id": "69b158a569ee4d5a8446328b7e7040e9",
       "version_major": 2,
       "version_minor": 0
      },
      "text/plain": [
       "  0%|          | 0/1 [00:00<?, ?it/s]"
      ]
     },
     "metadata": {},
     "output_type": "display_data"
    },
    {
     "name": "stdout",
     "output_type": "stream",
     "text": [
      "2021-11-21\n"
     ]
    },
    {
     "data": {
      "application/vnd.jupyter.widget-view+json": {
       "model_id": "e1f2d08ee80d4e55b9bc35bac8cc2491",
       "version_major": 2,
       "version_minor": 0
      },
      "text/plain": [
       "  0%|          | 0/1 [00:00<?, ?it/s]"
      ]
     },
     "metadata": {},
     "output_type": "display_data"
    },
    {
     "name": "stdout",
     "output_type": "stream",
     "text": [
      "2021-11-22\n"
     ]
    },
    {
     "data": {
      "application/vnd.jupyter.widget-view+json": {
       "model_id": "c91648283b95479f9ed770cf4333f498",
       "version_major": 2,
       "version_minor": 0
      },
      "text/plain": [
       "  0%|          | 0/1 [00:00<?, ?it/s]"
      ]
     },
     "metadata": {},
     "output_type": "display_data"
    },
    {
     "name": "stdout",
     "output_type": "stream",
     "text": [
      "2021-11-23\n"
     ]
    },
    {
     "data": {
      "application/vnd.jupyter.widget-view+json": {
       "model_id": "3cdfc091b59c486eb1523856f7217a0a",
       "version_major": 2,
       "version_minor": 0
      },
      "text/plain": [
       "  0%|          | 0/1 [00:00<?, ?it/s]"
      ]
     },
     "metadata": {},
     "output_type": "display_data"
    },
    {
     "name": "stdout",
     "output_type": "stream",
     "text": [
      "2021-11-24\n"
     ]
    },
    {
     "data": {
      "application/vnd.jupyter.widget-view+json": {
       "model_id": "e33b680f764049b28a244e060fdd5479",
       "version_major": 2,
       "version_minor": 0
      },
      "text/plain": [
       "  0%|          | 0/1 [00:00<?, ?it/s]"
      ]
     },
     "metadata": {},
     "output_type": "display_data"
    },
    {
     "name": "stdout",
     "output_type": "stream",
     "text": [
      "2021-11-25\n"
     ]
    },
    {
     "data": {
      "application/vnd.jupyter.widget-view+json": {
       "model_id": "de0c6aeb1ebf4299aa2779fde4a475c3",
       "version_major": 2,
       "version_minor": 0
      },
      "text/plain": [
       "  0%|          | 0/1 [00:00<?, ?it/s]"
      ]
     },
     "metadata": {},
     "output_type": "display_data"
    },
    {
     "name": "stdout",
     "output_type": "stream",
     "text": [
      "2021-11-26\n"
     ]
    },
    {
     "data": {
      "application/vnd.jupyter.widget-view+json": {
       "model_id": "9af2494619a742cd897e4b4333a0b240",
       "version_major": 2,
       "version_minor": 0
      },
      "text/plain": [
       "  0%|          | 0/1 [00:00<?, ?it/s]"
      ]
     },
     "metadata": {},
     "output_type": "display_data"
    },
    {
     "name": "stdout",
     "output_type": "stream",
     "text": [
      "2021-11-27\n"
     ]
    },
    {
     "data": {
      "application/vnd.jupyter.widget-view+json": {
       "model_id": "75f0092801a446998caa5b31968c6eb0",
       "version_major": 2,
       "version_minor": 0
      },
      "text/plain": [
       "  0%|          | 0/1 [00:00<?, ?it/s]"
      ]
     },
     "metadata": {},
     "output_type": "display_data"
    },
    {
     "name": "stdout",
     "output_type": "stream",
     "text": [
      "2021-11-28\n"
     ]
    },
    {
     "data": {
      "application/vnd.jupyter.widget-view+json": {
       "model_id": "e4998d5685d446928de7727b6830bc5e",
       "version_major": 2,
       "version_minor": 0
      },
      "text/plain": [
       "  0%|          | 0/1 [00:00<?, ?it/s]"
      ]
     },
     "metadata": {},
     "output_type": "display_data"
    },
    {
     "name": "stdout",
     "output_type": "stream",
     "text": [
      "2021-11-29\n"
     ]
    },
    {
     "data": {
      "application/vnd.jupyter.widget-view+json": {
       "model_id": "5ba340fee94940a6a5065ccd50f3da3d",
       "version_major": 2,
       "version_minor": 0
      },
      "text/plain": [
       "  0%|          | 0/1 [00:00<?, ?it/s]"
      ]
     },
     "metadata": {},
     "output_type": "display_data"
    },
    {
     "name": "stdout",
     "output_type": "stream",
     "text": [
      "2021-11-30\n"
     ]
    },
    {
     "data": {
      "application/vnd.jupyter.widget-view+json": {
       "model_id": "a700e99d170b4cb09e2103e63baea51d",
       "version_major": 2,
       "version_minor": 0
      },
      "text/plain": [
       "  0%|          | 0/1 [00:00<?, ?it/s]"
      ]
     },
     "metadata": {},
     "output_type": "display_data"
    },
    {
     "name": "stdout",
     "output_type": "stream",
     "text": [
      "2021-12-01\n"
     ]
    },
    {
     "data": {
      "application/vnd.jupyter.widget-view+json": {
       "model_id": "d17d1e10de8f4576ad8c70d9aafb8ddf",
       "version_major": 2,
       "version_minor": 0
      },
      "text/plain": [
       "  0%|          | 0/1 [00:00<?, ?it/s]"
      ]
     },
     "metadata": {},
     "output_type": "display_data"
    },
    {
     "name": "stdout",
     "output_type": "stream",
     "text": [
      "2021-12-02\n"
     ]
    },
    {
     "data": {
      "application/vnd.jupyter.widget-view+json": {
       "model_id": "0314e6adff6e4c198ac94e1543540660",
       "version_major": 2,
       "version_minor": 0
      },
      "text/plain": [
       "  0%|          | 0/1 [00:00<?, ?it/s]"
      ]
     },
     "metadata": {},
     "output_type": "display_data"
    },
    {
     "name": "stdout",
     "output_type": "stream",
     "text": [
      "2021-12-03\n"
     ]
    },
    {
     "data": {
      "application/vnd.jupyter.widget-view+json": {
       "model_id": "d49cd6fd551f4566ac087b545ef424b4",
       "version_major": 2,
       "version_minor": 0
      },
      "text/plain": [
       "  0%|          | 0/1 [00:00<?, ?it/s]"
      ]
     },
     "metadata": {},
     "output_type": "display_data"
    },
    {
     "name": "stdout",
     "output_type": "stream",
     "text": [
      "2021-12-04\n"
     ]
    },
    {
     "data": {
      "application/vnd.jupyter.widget-view+json": {
       "model_id": "d5316726bab64d91ad8bbe60206d8597",
       "version_major": 2,
       "version_minor": 0
      },
      "text/plain": [
       "  0%|          | 0/1 [00:00<?, ?it/s]"
      ]
     },
     "metadata": {},
     "output_type": "display_data"
    },
    {
     "name": "stdout",
     "output_type": "stream",
     "text": [
      "2021-12-05\n"
     ]
    },
    {
     "data": {
      "application/vnd.jupyter.widget-view+json": {
       "model_id": "86ab602044004bb19408d88a7c8306b7",
       "version_major": 2,
       "version_minor": 0
      },
      "text/plain": [
       "  0%|          | 0/1 [00:00<?, ?it/s]"
      ]
     },
     "metadata": {},
     "output_type": "display_data"
    },
    {
     "name": "stdout",
     "output_type": "stream",
     "text": [
      "2021-12-06\n"
     ]
    },
    {
     "data": {
      "application/vnd.jupyter.widget-view+json": {
       "model_id": "ca31043bd82e4c78b68ceb0deb02d7d2",
       "version_major": 2,
       "version_minor": 0
      },
      "text/plain": [
       "  0%|          | 0/1 [00:00<?, ?it/s]"
      ]
     },
     "metadata": {},
     "output_type": "display_data"
    },
    {
     "name": "stdout",
     "output_type": "stream",
     "text": [
      "2021-12-07\n"
     ]
    },
    {
     "data": {
      "application/vnd.jupyter.widget-view+json": {
       "model_id": "fa31b16bea1e49c684dd2d2a83a14010",
       "version_major": 2,
       "version_minor": 0
      },
      "text/plain": [
       "  0%|          | 0/1 [00:00<?, ?it/s]"
      ]
     },
     "metadata": {},
     "output_type": "display_data"
    },
    {
     "name": "stdout",
     "output_type": "stream",
     "text": [
      "2021-12-08\n"
     ]
    },
    {
     "data": {
      "application/vnd.jupyter.widget-view+json": {
       "model_id": "5b268f17c7ce4acb9fd5e9dd70c31612",
       "version_major": 2,
       "version_minor": 0
      },
      "text/plain": [
       "  0%|          | 0/1 [00:00<?, ?it/s]"
      ]
     },
     "metadata": {},
     "output_type": "display_data"
    },
    {
     "name": "stdout",
     "output_type": "stream",
     "text": [
      "2021-12-09\n"
     ]
    },
    {
     "data": {
      "application/vnd.jupyter.widget-view+json": {
       "model_id": "273aad36bf484c948fa28c8bb121a0de",
       "version_major": 2,
       "version_minor": 0
      },
      "text/plain": [
       "  0%|          | 0/1 [00:00<?, ?it/s]"
      ]
     },
     "metadata": {},
     "output_type": "display_data"
    },
    {
     "name": "stdout",
     "output_type": "stream",
     "text": [
      "2021-12-10\n"
     ]
    },
    {
     "data": {
      "application/vnd.jupyter.widget-view+json": {
       "model_id": "3740033911a74336aaadccd728e2aace",
       "version_major": 2,
       "version_minor": 0
      },
      "text/plain": [
       "  0%|          | 0/1 [00:00<?, ?it/s]"
      ]
     },
     "metadata": {},
     "output_type": "display_data"
    },
    {
     "name": "stdout",
     "output_type": "stream",
     "text": [
      "2021-12-11\n"
     ]
    },
    {
     "data": {
      "application/vnd.jupyter.widget-view+json": {
       "model_id": "3907e95357c14f9aa5dd673785f5c940",
       "version_major": 2,
       "version_minor": 0
      },
      "text/plain": [
       "  0%|          | 0/1 [00:00<?, ?it/s]"
      ]
     },
     "metadata": {},
     "output_type": "display_data"
    },
    {
     "name": "stdout",
     "output_type": "stream",
     "text": [
      "2021-12-12\n"
     ]
    },
    {
     "data": {
      "application/vnd.jupyter.widget-view+json": {
       "model_id": "70354460b5fa4a5eaeb5ba83fa38a050",
       "version_major": 2,
       "version_minor": 0
      },
      "text/plain": [
       "  0%|          | 0/1 [00:00<?, ?it/s]"
      ]
     },
     "metadata": {},
     "output_type": "display_data"
    },
    {
     "name": "stdout",
     "output_type": "stream",
     "text": [
      "2021-12-13\n"
     ]
    },
    {
     "data": {
      "application/vnd.jupyter.widget-view+json": {
       "model_id": "cd408c6441e9407880af7d30ee339a5c",
       "version_major": 2,
       "version_minor": 0
      },
      "text/plain": [
       "  0%|          | 0/2 [00:00<?, ?it/s]"
      ]
     },
     "metadata": {},
     "output_type": "display_data"
    },
    {
     "name": "stdout",
     "output_type": "stream",
     "text": [
      "2021-12-14\n"
     ]
    },
    {
     "data": {
      "application/vnd.jupyter.widget-view+json": {
       "model_id": "4427cdcea92f4f5b8f30ecaa6464a065",
       "version_major": 2,
       "version_minor": 0
      },
      "text/plain": [
       "  0%|          | 0/1 [00:00<?, ?it/s]"
      ]
     },
     "metadata": {},
     "output_type": "display_data"
    },
    {
     "name": "stdout",
     "output_type": "stream",
     "text": [
      "2021-12-15\n"
     ]
    },
    {
     "data": {
      "application/vnd.jupyter.widget-view+json": {
       "model_id": "13e1bd6582d84eccb6d668649d1c2569",
       "version_major": 2,
       "version_minor": 0
      },
      "text/plain": [
       "  0%|          | 0/1 [00:00<?, ?it/s]"
      ]
     },
     "metadata": {},
     "output_type": "display_data"
    },
    {
     "name": "stdout",
     "output_type": "stream",
     "text": [
      "2021-12-16\n"
     ]
    },
    {
     "data": {
      "application/vnd.jupyter.widget-view+json": {
       "model_id": "d0bb6e43dafd4a4294c320dc1747cd72",
       "version_major": 2,
       "version_minor": 0
      },
      "text/plain": [
       "  0%|          | 0/2 [00:00<?, ?it/s]"
      ]
     },
     "metadata": {},
     "output_type": "display_data"
    },
    {
     "name": "stdout",
     "output_type": "stream",
     "text": [
      "2021-12-17\n"
     ]
    },
    {
     "data": {
      "application/vnd.jupyter.widget-view+json": {
       "model_id": "ec61c0f85ec64751a67e8bfa428708b0",
       "version_major": 2,
       "version_minor": 0
      },
      "text/plain": [
       "  0%|          | 0/1 [00:00<?, ?it/s]"
      ]
     },
     "metadata": {},
     "output_type": "display_data"
    },
    {
     "name": "stdout",
     "output_type": "stream",
     "text": [
      "2021-12-18\n"
     ]
    },
    {
     "data": {
      "application/vnd.jupyter.widget-view+json": {
       "model_id": "c02dd878e8c64bf78e6e7a23521a3b94",
       "version_major": 2,
       "version_minor": 0
      },
      "text/plain": [
       "  0%|          | 0/1 [00:00<?, ?it/s]"
      ]
     },
     "metadata": {},
     "output_type": "display_data"
    },
    {
     "name": "stdout",
     "output_type": "stream",
     "text": [
      "2021-12-19\n"
     ]
    },
    {
     "data": {
      "application/vnd.jupyter.widget-view+json": {
       "model_id": "fd1ccb4b21b74f4090fb01dbcba52b0b",
       "version_major": 2,
       "version_minor": 0
      },
      "text/plain": [
       "  0%|          | 0/2 [00:00<?, ?it/s]"
      ]
     },
     "metadata": {},
     "output_type": "display_data"
    },
    {
     "name": "stdout",
     "output_type": "stream",
     "text": [
      "2021-12-20\n"
     ]
    },
    {
     "data": {
      "application/vnd.jupyter.widget-view+json": {
       "model_id": "09e4cd38590243fd983c6a9e0ac8f9f6",
       "version_major": 2,
       "version_minor": 0
      },
      "text/plain": [
       "  0%|          | 0/2 [00:00<?, ?it/s]"
      ]
     },
     "metadata": {},
     "output_type": "display_data"
    },
    {
     "name": "stdout",
     "output_type": "stream",
     "text": [
      "2021-12-21\n"
     ]
    },
    {
     "data": {
      "application/vnd.jupyter.widget-view+json": {
       "model_id": "de9f3fdc059d448ea434790497b7eed3",
       "version_major": 2,
       "version_minor": 0
      },
      "text/plain": [
       "  0%|          | 0/2 [00:00<?, ?it/s]"
      ]
     },
     "metadata": {},
     "output_type": "display_data"
    },
    {
     "name": "stdout",
     "output_type": "stream",
     "text": [
      "2021-12-22\n"
     ]
    },
    {
     "data": {
      "application/vnd.jupyter.widget-view+json": {
       "model_id": "adca2b76cf354236ba8f7d3535f17faa",
       "version_major": 2,
       "version_minor": 0
      },
      "text/plain": [
       "  0%|          | 0/2 [00:00<?, ?it/s]"
      ]
     },
     "metadata": {},
     "output_type": "display_data"
    },
    {
     "name": "stdout",
     "output_type": "stream",
     "text": [
      "2021-12-23\n"
     ]
    },
    {
     "data": {
      "application/vnd.jupyter.widget-view+json": {
       "model_id": "bfa6efb68b6f4dba81a8bfdb759a0328",
       "version_major": 2,
       "version_minor": 0
      },
      "text/plain": [
       "  0%|          | 0/2 [00:00<?, ?it/s]"
      ]
     },
     "metadata": {},
     "output_type": "display_data"
    },
    {
     "name": "stdout",
     "output_type": "stream",
     "text": [
      "2021-12-24\n"
     ]
    },
    {
     "data": {
      "application/vnd.jupyter.widget-view+json": {
       "model_id": "9ff74a495b274f1db887a5a6b43b767b",
       "version_major": 2,
       "version_minor": 0
      },
      "text/plain": [
       "  0%|          | 0/1 [00:00<?, ?it/s]"
      ]
     },
     "metadata": {},
     "output_type": "display_data"
    },
    {
     "name": "stdout",
     "output_type": "stream",
     "text": [
      "2021-12-25\n"
     ]
    },
    {
     "data": {
      "application/vnd.jupyter.widget-view+json": {
       "model_id": "5cda0530bcd140efa5152ef6f76216a7",
       "version_major": 2,
       "version_minor": 0
      },
      "text/plain": [
       "  0%|          | 0/1 [00:00<?, ?it/s]"
      ]
     },
     "metadata": {},
     "output_type": "display_data"
    },
    {
     "name": "stdout",
     "output_type": "stream",
     "text": [
      "2021-12-26\n"
     ]
    },
    {
     "data": {
      "application/vnd.jupyter.widget-view+json": {
       "model_id": "44d6b48e988242a4b3ad72452cb303c3",
       "version_major": 2,
       "version_minor": 0
      },
      "text/plain": [
       "  0%|          | 0/3 [00:00<?, ?it/s]"
      ]
     },
     "metadata": {},
     "output_type": "display_data"
    },
    {
     "name": "stdout",
     "output_type": "stream",
     "text": [
      "2021-12-27\n"
     ]
    },
    {
     "data": {
      "application/vnd.jupyter.widget-view+json": {
       "model_id": "4824b481a6904133be46bbd9ca76c63e",
       "version_major": 2,
       "version_minor": 0
      },
      "text/plain": [
       "  0%|          | 0/2 [00:00<?, ?it/s]"
      ]
     },
     "metadata": {},
     "output_type": "display_data"
    },
    {
     "name": "stdout",
     "output_type": "stream",
     "text": [
      "2021-12-28\n"
     ]
    },
    {
     "data": {
      "application/vnd.jupyter.widget-view+json": {
       "model_id": "b6ceefe297e84694ad65106f485801f2",
       "version_major": 2,
       "version_minor": 0
      },
      "text/plain": [
       "  0%|          | 0/3 [00:00<?, ?it/s]"
      ]
     },
     "metadata": {},
     "output_type": "display_data"
    },
    {
     "name": "stdout",
     "output_type": "stream",
     "text": [
      "2021-12-29\n"
     ]
    },
    {
     "data": {
      "application/vnd.jupyter.widget-view+json": {
       "model_id": "cd54f59c42a047b2a9896bdf2165b885",
       "version_major": 2,
       "version_minor": 0
      },
      "text/plain": [
       "  0%|          | 0/2 [00:00<?, ?it/s]"
      ]
     },
     "metadata": {},
     "output_type": "display_data"
    },
    {
     "name": "stdout",
     "output_type": "stream",
     "text": [
      "2021-12-30\n"
     ]
    },
    {
     "data": {
      "application/vnd.jupyter.widget-view+json": {
       "model_id": "55ab150f2a5b437e896537f1dcaf0c7b",
       "version_major": 2,
       "version_minor": 0
      },
      "text/plain": [
       "  0%|          | 0/1 [00:00<?, ?it/s]"
      ]
     },
     "metadata": {},
     "output_type": "display_data"
    },
    {
     "name": "stdout",
     "output_type": "stream",
     "text": [
      "2021-12-31\n"
     ]
    },
    {
     "data": {
      "application/vnd.jupyter.widget-view+json": {
       "model_id": "39b93854d10148b6bae28fd22d284fe0",
       "version_major": 2,
       "version_minor": 0
      },
      "text/plain": [
       "  0%|          | 0/1 [00:00<?, ?it/s]"
      ]
     },
     "metadata": {},
     "output_type": "display_data"
    },
    {
     "name": "stdout",
     "output_type": "stream",
     "text": [
      "2022-01-01\n"
     ]
    },
    {
     "data": {
      "application/vnd.jupyter.widget-view+json": {
       "model_id": "8e035ee6a8c34dc5b3855b2d19384f31",
       "version_major": 2,
       "version_minor": 0
      },
      "text/plain": [
       "  0%|          | 0/1 [00:00<?, ?it/s]"
      ]
     },
     "metadata": {},
     "output_type": "display_data"
    },
    {
     "name": "stdout",
     "output_type": "stream",
     "text": [
      "2022-01-02\n"
     ]
    },
    {
     "data": {
      "application/vnd.jupyter.widget-view+json": {
       "model_id": "5531825d33124469bb83017ebc728df2",
       "version_major": 2,
       "version_minor": 0
      },
      "text/plain": [
       "  0%|          | 0/1 [00:00<?, ?it/s]"
      ]
     },
     "metadata": {},
     "output_type": "display_data"
    },
    {
     "name": "stdout",
     "output_type": "stream",
     "text": [
      "2022-01-03\n"
     ]
    },
    {
     "data": {
      "application/vnd.jupyter.widget-view+json": {
       "model_id": "9639d7a539114e418601a872a0b76fe8",
       "version_major": 2,
       "version_minor": 0
      },
      "text/plain": [
       "  0%|          | 0/1 [00:00<?, ?it/s]"
      ]
     },
     "metadata": {},
     "output_type": "display_data"
    },
    {
     "name": "stdout",
     "output_type": "stream",
     "text": [
      "2022-01-04\n"
     ]
    },
    {
     "data": {
      "application/vnd.jupyter.widget-view+json": {
       "model_id": "0ac03f01f6d4452aa582f3f5791c3147",
       "version_major": 2,
       "version_minor": 0
      },
      "text/plain": [
       "  0%|          | 0/1 [00:00<?, ?it/s]"
      ]
     },
     "metadata": {},
     "output_type": "display_data"
    },
    {
     "name": "stdout",
     "output_type": "stream",
     "text": [
      "2022-01-05\n"
     ]
    },
    {
     "data": {
      "application/vnd.jupyter.widget-view+json": {
       "model_id": "d3085494d11e45e8a92517f4449a2013",
       "version_major": 2,
       "version_minor": 0
      },
      "text/plain": [
       "  0%|          | 0/1 [00:00<?, ?it/s]"
      ]
     },
     "metadata": {},
     "output_type": "display_data"
    },
    {
     "name": "stdout",
     "output_type": "stream",
     "text": [
      "2022-01-06\n"
     ]
    },
    {
     "data": {
      "application/vnd.jupyter.widget-view+json": {
       "model_id": "12e439a8514c43678e211554f85c6f6c",
       "version_major": 2,
       "version_minor": 0
      },
      "text/plain": [
       "  0%|          | 0/1 [00:00<?, ?it/s]"
      ]
     },
     "metadata": {},
     "output_type": "display_data"
    },
    {
     "name": "stdout",
     "output_type": "stream",
     "text": [
      "2022-01-07\n"
     ]
    },
    {
     "data": {
      "application/vnd.jupyter.widget-view+json": {
       "model_id": "61c7afa0300d4ae9838fea4f13334bab",
       "version_major": 2,
       "version_minor": 0
      },
      "text/plain": [
       "  0%|          | 0/1 [00:00<?, ?it/s]"
      ]
     },
     "metadata": {},
     "output_type": "display_data"
    },
    {
     "name": "stdout",
     "output_type": "stream",
     "text": [
      "2022-01-08\n"
     ]
    },
    {
     "data": {
      "application/vnd.jupyter.widget-view+json": {
       "model_id": "2d7f4d9a376e46439522d5a54755dc7b",
       "version_major": 2,
       "version_minor": 0
      },
      "text/plain": [
       "  0%|          | 0/1 [00:00<?, ?it/s]"
      ]
     },
     "metadata": {},
     "output_type": "display_data"
    },
    {
     "name": "stdout",
     "output_type": "stream",
     "text": [
      "2022-01-09\n"
     ]
    },
    {
     "data": {
      "application/vnd.jupyter.widget-view+json": {
       "model_id": "0c97d1653c31408689d30ff79a063188",
       "version_major": 2,
       "version_minor": 0
      },
      "text/plain": [
       "  0%|          | 0/4 [00:00<?, ?it/s]"
      ]
     },
     "metadata": {},
     "output_type": "display_data"
    },
    {
     "name": "stdout",
     "output_type": "stream",
     "text": [
      "2022-01-10\n"
     ]
    },
    {
     "data": {
      "application/vnd.jupyter.widget-view+json": {
       "model_id": "e7bd5307efcb44b5a552826d7ff86c82",
       "version_major": 2,
       "version_minor": 0
      },
      "text/plain": [
       "  0%|          | 0/4 [00:00<?, ?it/s]"
      ]
     },
     "metadata": {},
     "output_type": "display_data"
    },
    {
     "name": "stdout",
     "output_type": "stream",
     "text": [
      "2022-01-11\n"
     ]
    },
    {
     "data": {
      "application/vnd.jupyter.widget-view+json": {
       "model_id": "20873542dd364ac389da935bd629bf60",
       "version_major": 2,
       "version_minor": 0
      },
      "text/plain": [
       "  0%|          | 0/3 [00:00<?, ?it/s]"
      ]
     },
     "metadata": {},
     "output_type": "display_data"
    },
    {
     "name": "stdout",
     "output_type": "stream",
     "text": [
      "2022-01-12\n"
     ]
    },
    {
     "data": {
      "application/vnd.jupyter.widget-view+json": {
       "model_id": "78118f20e25e46aab37d67486259f248",
       "version_major": 2,
       "version_minor": 0
      },
      "text/plain": [
       "  0%|          | 0/4 [00:00<?, ?it/s]"
      ]
     },
     "metadata": {},
     "output_type": "display_data"
    },
    {
     "name": "stdout",
     "output_type": "stream",
     "text": [
      "2022-01-13\n"
     ]
    },
    {
     "data": {
      "application/vnd.jupyter.widget-view+json": {
       "model_id": "8952c4c6a318440084496adf2903f82f",
       "version_major": 2,
       "version_minor": 0
      },
      "text/plain": [
       "  0%|          | 0/3 [00:00<?, ?it/s]"
      ]
     },
     "metadata": {},
     "output_type": "display_data"
    },
    {
     "name": "stdout",
     "output_type": "stream",
     "text": [
      "2022-01-14\n"
     ]
    },
    {
     "data": {
      "application/vnd.jupyter.widget-view+json": {
       "model_id": "a9028b2413fb4d24b8e925d3b77b9ac0",
       "version_major": 2,
       "version_minor": 0
      },
      "text/plain": [
       "  0%|          | 0/1 [00:00<?, ?it/s]"
      ]
     },
     "metadata": {},
     "output_type": "display_data"
    },
    {
     "name": "stdout",
     "output_type": "stream",
     "text": [
      "2022-01-15\n"
     ]
    },
    {
     "data": {
      "application/vnd.jupyter.widget-view+json": {
       "model_id": "bb1bffe3c211473887b547fcd3078981",
       "version_major": 2,
       "version_minor": 0
      },
      "text/plain": [
       "  0%|          | 0/1 [00:00<?, ?it/s]"
      ]
     },
     "metadata": {},
     "output_type": "display_data"
    },
    {
     "name": "stdout",
     "output_type": "stream",
     "text": [
      "2022-01-16\n"
     ]
    },
    {
     "data": {
      "application/vnd.jupyter.widget-view+json": {
       "model_id": "c118182afb4d41baa5b0abe75d4ae69e",
       "version_major": 2,
       "version_minor": 0
      },
      "text/plain": [
       "  0%|          | 0/5 [00:00<?, ?it/s]"
      ]
     },
     "metadata": {},
     "output_type": "display_data"
    },
    {
     "name": "stdout",
     "output_type": "stream",
     "text": [
      "2022-01-17\n"
     ]
    },
    {
     "data": {
      "application/vnd.jupyter.widget-view+json": {
       "model_id": "2ba7882b04284d5bb2ad477c902c4f4d",
       "version_major": 2,
       "version_minor": 0
      },
      "text/plain": [
       "  0%|          | 0/4 [00:00<?, ?it/s]"
      ]
     },
     "metadata": {},
     "output_type": "display_data"
    },
    {
     "name": "stdout",
     "output_type": "stream",
     "text": [
      "2022-01-18\n"
     ]
    },
    {
     "data": {
      "application/vnd.jupyter.widget-view+json": {
       "model_id": "d4c994f2de2c4bd8a114ea237100a657",
       "version_major": 2,
       "version_minor": 0
      },
      "text/plain": [
       "  0%|          | 0/4 [00:00<?, ?it/s]"
      ]
     },
     "metadata": {},
     "output_type": "display_data"
    },
    {
     "name": "stdout",
     "output_type": "stream",
     "text": [
      "2022-01-19\n"
     ]
    },
    {
     "data": {
      "application/vnd.jupyter.widget-view+json": {
       "model_id": "a954054fec694eca94f772358e25bd0a",
       "version_major": 2,
       "version_minor": 0
      },
      "text/plain": [
       "  0%|          | 0/8 [00:00<?, ?it/s]"
      ]
     },
     "metadata": {},
     "output_type": "display_data"
    },
    {
     "name": "stdout",
     "output_type": "stream",
     "text": [
      "2022-01-20\n"
     ]
    },
    {
     "data": {
      "application/vnd.jupyter.widget-view+json": {
       "model_id": "b74b5ae3957049dfb4623d28ff37d661",
       "version_major": 2,
       "version_minor": 0
      },
      "text/plain": [
       "  0%|          | 0/1 [00:00<?, ?it/s]"
      ]
     },
     "metadata": {},
     "output_type": "display_data"
    }
   ],
   "source": [
    "# Перевод даты публикаций в datetime\n",
    "last_date = datetime.datetime.today()+relativedelta(days=1)\n",
    "first_date = datetime.datetime.today()-relativedelta(months=2)\n",
    "\n",
    "def data_converter(a):\n",
    "    result = datetime.datetime(int(a[0:4]),int(a[5:7]),int(a[8:10]))\n",
    "    return result\n",
    "\n",
    "vacancies_dates=[]\n",
    "while first_date <= last_date:\n",
    "    print((first_date-relativedelta(days=1)).strftime('%Y-%m-%d'))\n",
    "    for page in tqdm(range(json.loads(getPage(0)).get('pages'))):\n",
    "        vacancies = json.loads(getPage(page))\n",
    "        vacancy_ids = [data_converter(str(el.get('published_at'))) for el in vacancies.get('items')]\n",
    "        vacancies_dates.extend(vacancy_ids)\n",
    "    first_date += datetime.timedelta(days = 1)"
   ]
  },
  {
   "cell_type": "code",
   "execution_count": 6,
   "metadata": {},
   "outputs": [
    {
     "data": {
      "image/png": "[encoded data removed]",
      "text/plain": [
       "<Figure size 2880x360 with 1 Axes>"
      ]
     },
     "metadata": {
      "needs_background": "light"
     },
     "output_type": "display_data"
    }
   ],
   "source": [
    "# Постройте график опубликованных вакансий по датам\n",
    "\n",
    "list_of_date = sorted(list(set(vacancies_dates)))\n",
    "\n",
    "date_counter = []\n",
    "date_list=[]\n",
    "for i in list_of_date:\n",
    "    counter = 0\n",
    "    for el in vacancies_dates:\n",
    "        if el==i:\n",
    "            counter+=1\n",
    "    date_counter.append(counter)\n",
    "\n",
    "for i in list_of_date:\n",
    "    date_list.append(i.strftime('%Y-%m-%d'))\n",
    "\n",
    "figure(figsize=(40, 5))\n",
    "plt.plot(date_list, date_counter)\n",
    "plt.show()\n"
   ]
  },
  {
   "cell_type": "code",
   "execution_count": 7,
   "metadata": {},
   "outputs": [
    {
     "name": "stdout",
     "output_type": "stream",
     "text": [
      "Thursday\n"
     ]
    }
   ],
   "source": [
    "# Переведите даты в дни недели, и определите день недели, в который больше всего публикуют вакансий\n",
    "\n",
    "import statistics\n",
    "\n",
    "from statistics import mode\n",
    "\n",
    "\n",
    "list_by_weekdays=[]\n",
    "for i in vacancies_dates:\n",
    "    list_by_weekdays.append(i.strftime('%A'))\n",
    "\n",
    "print(mode(list_by_weekdays))"
   ]
  },
  {
   "cell_type": "code",
   "execution_count": 8,
   "metadata": {},
   "outputs": [
    {
     "name": "stdout",
     "output_type": "stream",
     "text": [
      "{'ML-аналитик': 'Знание машинного обучения и статистического анализа. Хорошее знание мат. статистики, алгоритмов, структур данных. Продвинутое знание Python основных библиотек анализа данных. '}\n",
      "{'Middle Python разработчик': 'Требования: Опыт разработки на Python от 1 года. Знание основных алгоритмов и структур данных. Работа с данными: Знание SQL. '}\n",
      "{'QA инженер (Python / SQL / С++)': 'Обязательно: 1. Знание основ тестирования ПО. 2. Опыт работы в сфере разработки ПО от года. 3. Уверенное владение двумя из...'}\n",
      "{'Qa engineer': 'Опыт тестирования, опыт написания автотестов на Python 1-3 года. Опыт написания Bash-скриптов. Опыт работы с Git, Docker-контейнерами...'}\n",
      "{'Data Analyst Middle/Senior': 'Хорошее знание Python, базовых библиотек для работы с данными и визуализациями (pandas, numpy, scipy, matplotlib, plotly). Развитые soft скиллы, готовность...'}\n",
      "{'DevOps инженер': 'Навыки администрирования ОС Linux (RHEL/CentOS). Знание скриптовых языков программирования (Bash, Python). Опыт использования инструментов управления конфигурациями, оркестрации и систем...'}\n",
      "{'Главный инженер по сопровождению АС в управление ИТ \"Эквайринг\"': 'Высшее образование в сфере ИТ. Опыт работы с Linux. Базовый уровень Python/Groovy. Понимание работы JVM. Опыт работы с Openshift...'}\n",
      "{'Главный экономист Центра ALM дочерних обществ': 'Высшее образование: финансовое / экономическое / техническое. Опыт работы в рисках / казначействе крупного банка от трех лет. Опыт работы с Python и...'}\n",
      "{'Python developer (Виртуальный ассистент)': 'Опыт работы в Python разработчиком от 1 года. Владение Python3 на уверенном уровне. Понимание структур данных. Понимание работы с...'}\n",
      "{'MLOps инженер': 'Уверенное владение Linux. Работа с Docker, Kubernetes/OpenShift. Навыки деплоя приложений в Kubernetes/OpenShift. Python, Bash на уровне middle и...'}\n",
      "{'Senior Python developer': 'Опыт коммерческой разработки от 3 лет. Опыт на руководящей должности в разработке. Знание технологий стека команды.'}\n",
      "{'Аналитик баз данных': 'Опыт работы в QlikView или Qlik Sense. Знание Python и других языков программирования. Практический опыт работы в системах типа Jira...'}\n",
      "{'Python-разработчик в Цифровые поверхности Салют (Речевая аналитика)': 'Владеете Python3 на уверенном уровне, достаточном для промышленного программирования. Имеете хорошие знания алгоритмов. Умеете писать тесты, знакомы с подходом...'}\n",
      "{'Python разработчик': 'Уверенное знание Python от 3-х лет. Опыт разработки web-решений в команде от 2 лет. Знание Django, Flask или...'}\n",
      "{'DevOps specialist': 'Опыт администрирования Linux систем в качестве опса. Умение писать скрипты на Python/Perl/Ruby/Bash. Хорошие практические знания Docker. '}\n",
      "{'Стажер Центра корпоративных решений (Data Scientist)': 'Python data stack (pandas, numpy, matplotlib, sklearn). Опыт работы с дата-продуктами. Опыт проверки продуктовых и бизнес-гипотез на данных. '}\n",
      "{'Python-разработчик в Цифровые поверхности Салют (Речевая аналитика)': 'Владение Python3 на уверенном уровне, достаточном для промышленного программирования. Хорошие знания алгоритмов. Умение писать тесты, знакомство с подходом TDD. '}\n",
      "{'QA automation engineer/Инженер по автоматизации тестирования (Messaging Platform)': 'Опыт автоматизации тестирования API. Знание языка программирования Python. Базовое знание SQL. Опыт нагрузочного тестирования (планирование, написание скриптов, анализ результатов). '}\n",
      "{'Data Engineer (Дата инженер)': 'Знание и опыт Python и Scala (также рассматриваются кандидаты с опытом работы на другом стеке, которые готовы обучиться Python и...'}\n",
      "{'Инженер по нагрузочному тестированию (Junior)': 'Желание заниматься нагрузочным тестированием. Знание современных методологий тестирования. Опыт разработки с использованием языков программирования высокого уровня (Perl, Python, Ruby, Java...'}\n",
      "{'Python разработчик (удаленно)': 'Middle Developer Python. SQL (желательно опыт работы с Postgress), Kafka, Open Shift, Docker. Опыт написания сетевых приложение стек TCP/ip...'}\n",
      "{'Инженер по нагрузочному тестированию (Junior)': 'Желание заниматься нагрузочным тестированием. Знание современных методологий тестирования. Опыт разработки с использованием языков программирования высокого уровня (Perl, Python, Ruby, Java...'}\n",
      "{'Data Scientist (кредитные продукты и процессы)': 'Знание SQL и основ архитектуры БД. Знание Python и основных библиотек для работы с данными (scikit-learn, pandas, numpy, scipy). '}\n",
      "{'Senior Data Scientist (Управление валидации)': 'Что будешь делать ты? - Знание машинного обучения и статистического анализа. - Знание мат. статистики, алгоритмов, структур данных. - Знание Python и основных...'}\n",
      "{'Devops Engineer': 'Обязательно знание: Linux (на уровне администратора), Ansible, Bash/Python, Git, Docker. Дополнительные знания будут плюсом: Groovy, Jenkins, Elasticsearch, Kafka, k...'}\n",
      "{'Data Scientist (Внешнеэкономическое партнерство)': 'Высшее техническое/математическое/экономическое образование. Опыт работы на аналогичной позиции. Уверенные знания Python и SQL (Oracle, Postgres). Опыт разработки ML...'}\n",
      "{'DevOps engineer (Инвестиции)': 'Имеете опыт работы с Jenkins, Ansible, Linux shell (Bash). Имеете опыт написания на скриптовых языках Groovy, Python. Желателен опыт работы...'}\n",
      "{'Аналитик по количественным финансам (AI/ML)': 'Общее понимание банковского бизнеса и глобальных рынков. Знание программирования (Python, R, SQL), количественных финансов, основ машинного обучения и эконометрики. '}\n",
      "{'Middle Java Разработчик': 'Образование: высшее математическое, техническое. Опыт работы со схожим стеком от 2-х лет. Знание других языков программирования приветствуется: Python, JavaScript. '}\n",
      "{'ML Engineer': 'Практический опыт работы с DL/ML. Опыт работы с Python. Будет плюсом: Опыт построения алгоритмов в области рекомендательных систем. '}\n",
      "{'Middle/Senior Python-разработчик в SberDevices (платформа монетизации видеоконтента)': 'Имеете опыт командной коммерческой разработки на Python3 от 2-х лет. Обладаете продвинутым знанием Django. Умеете писать Unit-тесты. '}\n",
      "{'Стажер Data Engineer (Корпоративные клиенты 360)': 'Базовые знания языков программирования Scala, Python. Опыт работы с объектно-ориентированными языками программирования. SQL на уровне аналитических запросов. Git, linux. '}\n",
      "{'DevOps инженер': 'Высшее техническое образование, профильное по направлению ИТ является преимуществом. Знание Linux-систем. Умение писать скрипты (Python, Bash, Groovy). '}\n",
      "{'Python разработчик': 'Высшее техническое/ математическое образование. Опыт разработки на python (Django). Желателен опыт разработки на React. Желателен опыт работы с JIRA, Bitbucket.'}\n",
      "{'ML Engineer': 'Практический опыт работы с DL/ML. Опыт работы с Python. Будет плюсом: Опыт построения алгоритмов в области рекомендательных систем. '}\n",
      "{'Администратор Hadoop': 'Имеете навыки работы с СУБД: Oracle и/или PostgreSQL. - Навыки написания скриптов: Bash, Python. - Имеете опыт работы с GoldenGate, GreenPlum...'}\n",
      "{'Data scientist ( Python)': 'Увлечены data science и умеете анализировать данные. Знаете эконометрику и методы машинного обучения. Знаете Python на продвинутом уровне. '}\n",
      "{'Data Analyst (SberDevices)': 'Опыт работы с различными источниками данных, в том числе с базами данных с использованием Python, SQL, CSV, Excel. '}\n",
      "{'Data Scientist': 'Умение анализировать данные. Знание Python, SQL. Знание основ эконометрики. Понимание методов машинного обучения, умение применять при необходимости. Знание корпоративных финансов...'}\n",
      "{'Python разработчик': 'Знание Python: написание, отладка и тестирование кода. Опыт в написании сервисов на Python. Опыт в анализе логов сервиса и его...'}\n",
      "{'Senior Python-разработчик в Цифровые поверхности Салют (Intelligent Search)': 'Имеете опыт промышленной разработки на Python от 3-х лет. Имеете опыт применения в работе классических алгоритмов. Знаете классические структуры...'}\n",
      "{'Data analyst (middle/senior)': 'Уверенное владение Python, Git, Linux. Хорошо писать код. Базовое знание статистики. Хорошее верхнеуровневое понимание ML систем, отличное знание метрик (будем...'}\n",
      "{'Go-разработчик в Цифровые поверхности Салют (Умный автоответчик)': 'Имеет опыт backend разработки (Linux  Go) от 2-х лет. Умеете работать в команде. Будет плюсом: знание Python и/или...'}\n",
      "{'Старший аналитик данных': 'Знание Python (Pandas, Numpy, matplotlib, seaborn). Владение SQL. Профессиональный уровень знаний Excel. Опыт (учебный) построения и валидации моделей (xgboost, catboost...'}\n",
      "{'ML Engineer в области рекомендательных систем': 'Практический опыт работы с DL/ML. Опыт работы с Python. Будет плюсом: Опыт построения алгоритмов в области рекомендательных систем. '}\n",
      "{'Product/ Data Analyst': 'Высшее образование в области математики/экономики/финансов. Знание математической статистики, эконометрики. Владение методами анализа данных. Хорошее знание SQL, Python.'}\n",
      "{'Ведущий аудитор отдела розничного бизнеса': 'Понимание методов и алгоритмов Machine Learning. Работа с данными их обработка (SQL, C#, Python, Process Mining, Machine Learning, Artificial Intelligence). '}\n",
      "{'QA Engineer': 'Опыт автоматизации тестирования API. Знание языка программирования Python. Базовое знание SQL. Опыт нагрузочного тестирования (планирование, написание скриптов, анализ результатов). '}\n",
      "{'BI аналитик': 'хорошие/отличные знания sql (plsql и oracle будет плюсом). - хороший уровень знаний java/spark (разработка DataPipelines). - Начальный/средний уровень Python...'}\n",
      "{'Нагрузочный тестировщик': 'IBM MQ, Kafka. Навык работы хотя бы с одним скриптовым языком (Python, TCL, Bash, Perl, Ruby, JavaScript, Ansible). ELK, Hadoop.'}\n",
      "{'Администратор по сопровождению тестовых сред': 'WebSphere, WildFly. Навык работы хотя бы с одним скриптовым языком (Python, TCL, Bash, Perl, Ruby, JavaScript, Ansible). Доступ к различным...'}\n",
      "{'Back-End\\xa0инженер C++ (Рекомендательная система)': 'Знание одного из языков программирования: C (С11 и выше), Python 3.x, Golang. Практический опыт работы с различными базами...'}\n",
      "{'Back-End инженер Golang (Рекомендательная система)': 'Знание одного из языков программирования: Golang, C (С11 и выше), Python 3.x. Практический опыт работы с различными базами...'}\n",
      "{'Data engineer (внешнеэкономическое партнерство)': 'Высшее техническое/математическое/экономическое образование. Опыт работы на аналогичной позиции от года. Уверенные знания Python, SQL (Oracle, Postgres). '}\n",
      "{'Data scientist (Центр валидации моделей розничного бизнеса)': 'Знание машинного обучения и статистического анализа (интересен любой опыт). Знание мат. статистики, алгоритмов, структур данных. Знание Python и/или R...'}\n",
      "{'QA инженер в Лабораторию Интернета вещей': 'Знание Python. Умение работать с операционной системой Linux. Опыт работы по профилю не менее трех лет. Опыт работы с багтрекинговыми...'}\n",
      "{'Старший аналитик данных': 'Высшее образование в сфере ИТ-технологий, математическое. Знание языков программирования SQL, Python. Профессиональный уровень знаний Excel. Знание банковских процессов приветствуется.'}\n",
      "{'Python-разработчик': 'Проактивных людей, которые не ждут, когда им скажут, что и как делать, а сами способны увидеть и решить проблему. '}\n",
      "{'Senior Python разработчик (развитие технологических решений)': 'Опыт промышленной разработки на Django от 3-х лет. Опыт разработки асинхронных систем (asyncio/tornado, fastapi). Опыт создания CI/CD...'}\n",
      "{'Data engineer (Бизнес-карты)': 'Хорошее знание SQL: индексы и их применение, написание хранимых процедур, создание витрин (желателен опыт оптимизации). Python, знание стандартных структур данных...'}\n",
      "{'Системный администратор (централизованные технологические решения)': 'Опыт программирования на скриптовых языках (предпочтительно Python). Опыт администрирования Nginx/HAProxy. Опыт работы с технологиями Docker, Openshift / Kubernetes, jenkins. '}\n",
      "{'Senior/Team Lead Data Scientist': 'Сильные знания в области data science / computer science / математики. Продвинутое использование Python / R, SQL. Опыт в построении и анализе data...'}\n",
      "{'Python разработчик': 'Писать чистый код на Python 3.*. Уверенное знание основных python библиотек. Pyspark 2.4.6, 3.0.0. REST API. '}\n",
      "{'Разработчик Python Junior/сценарист виртуальных ассистентов': 'имеешь базовые знания Python.  умеешь разбираться в технической документации и читать блок-схемы и диаграммы.  имеешь опыт работы с шаблонизатором...'}\n",
      "{'Senior Data Analyst в трайб Customer Care': 'Хорошее знание Python, базовых библиотек для работы с данными и визуализациями (pandas, numpy, scipy, matplotlib, plotly). Развитые soft скиллы, готовность...'}\n",
      "{'Data Engineer SberDevices': 'Опыт работы с Python (pandas, numpy, REST API). Опыт работы с различными источниками данных. Знакомство со статистикой на базовом уровне.'}\n",
      "{'DevOps Engineer': 'Опыт работы с инфраструктурными компонентами (Nginx, Kafka, MQ, Zookeaper, Haproxy). Навыки разработки и отладки на одном из языков Python, Java...'}\n",
      "{'Системный инженер/DevOps': 'Имеете навыки работы с СУБД: Oracle и/или PostgreSQL, SQL. Навыки написания скриптов: Bash, Python, Groovy. Имеете опыт эксплуатации и...'}\n",
      "{'Lead data scientist (Антифрод)': 'Хорошие знания Python 3. Опыт работа с Pandas, SQL, Spark/PySpark, Hive и др. инструментами для анализа малых и больших...'}\n",
      "{'Системный инженер/DevOps': 'Имеете навыки работы с СУБД: Oracle и/или PostgreSQL, SQL. Навыки написания скриптов: Bash, Python, Groovy. Имеете опыт эксплуатации и...'}\n",
      "{'Главный аудитор (аналитик)': 'Высшее образование. Знание офисных ПО на уровне уверенного пользователя. Знания SQL. Опыт работы с современными методами анализа данных (Python), обработкой...'}\n",
      "{'Python разработчик (DomClick)': 'Успешно проработали 3 лет в области создания программного обеспечения на аналогичной позиции. Успешно применяли последние пару лет в своей работе...'}\n",
      "{'ML Engineer в области рекомендательных систем': 'Практический опыт работы с DL/ML. Опыт работы с Python. Будет плюсом: Опыт построения алгоритмов в области рекомендательных систем. '}\n",
      "{'Devops инженер (junior)': 'Требуются навыки администрирования ОС Linux (RHEL/CentOS). Знание скриптовых языков программирования (Bash, Python). Опыт использования инструментов управления конфигурациями, оркестрации и...'}\n",
      "{'Senior Python developer': 'Опыт в разработке микросервисов на Python. Навыки работы с SQL и noSQL базами данных. Опыт разработки в Unix или Linux. '}\n",
      "{'Python developer (Machine Learning Engineer)': 'Опыт промышленной разработки на Python 3. Понимание принципов построения моделей машинного обучения. Умение пользоваться ML-инструментами на Python. '}\n",
      "{'QA Engineer в умный дом': 'Опыт тестирования встраиваемого ПО. Понимание технологий и принципов работы интернета вещей. Базовое знание цифровой схемотехники. Базовые знания Python. '}\n",
      "{'С++ Developer (iSearch)': 'Опыт промышленной разработки на Python или C от 3 лет. Знание классических структур данных и алгоритмов. Опыт работы с реляционными...'}\n",
      "{'Full Stack разработчик (Python)': 'Подтвержденный навык самостоятельного построения приложений и всех компонентов приложений. Профессиональный опыт работы с Python, Java, PostgreSQL, React, JavaScript, Node.js, CSS...'}\n",
      "{'Data Engineer (цифровой двойник)': 'Опыт работы в качестве Data Engineer от 2 лет. Хорошие навыки программирования на Python и SQL. Опыт работы с RDBMS...'}\n",
      "{'Data Scientist NLP': 'Образование в области computer science, прикладная математика, математика, статистика. Понимание математических основ ML. Мощный Python. Свободное владение основными DL/ML...'}\n",
      "{'Разработчик Python (мониторинг инфраструктуры)': 'Понимание принципов asyncio, мультитрединга и мультипроцессинга (используется в скриптах автоматизации). Опыт в рефакторинге, декомпозиции, построении модульных приложений. Навыки отладки асинхронного...'}\n",
      "{'Руководитель направления (SberUser)': 'Опыт разработки приложений на одном из языков: Java, C/C, Go, Kotlin, Python. Опыт использования REST, WS, gRPC и т...'}\n",
      "{'Senior data engineer': 'Опыт работы с SQL. Опыт разработки на Python, Java или Scala. Опыт работы по подготовке данных. Знание SQL на уровне...'}\n",
      "{'Старший аудитор (аналитик SQL/Python)': 'Высшее образование. Знание Python. Знания SQL. Опыт работы с современными методами анализа данных, обработкой больших данных.'}\n",
      "{'Product Analyst (SberDevices)': 'Fluent Python для анализа данных (pandas, json, пакеты для статистики). SQL. Проактивность и желание работать и развиваться вместе с большим...'}\n",
      "{'Python разработчик': 'Успешно проработали 3 лет в области создания программного обеспечения на аналогичной позиции. Успешно применяли последние пару лет в своей работе...'}\n",
      "{'Middle Data Scientist в команду Data Science Блока «Сеть Продаж»': 'Опыт использования библиотек для Classic ML в Python. Знание принципов проведения А/В тестов. Навыки SQL.'}\n",
      "{'Full-Stack Developer (Python)': 'Понимание математических основ ML. Мощный Python, плюсом будет умение в Java. Опыт работы в средней или крупной компании. '}\n",
      "{'Разработчик автоматизированных систем': 'Опыт разработки от года и выше на любом языке программирования (Python, C, PHP, JS, C#, Go, C, Java, R и...'}\n",
      "{'DevOps инженер (ISearch)': 'Писали код на Python, достаточно базового уровня. Понимаете и следуете принципу Infrastructure as a Code. Строили и поддерживали отказоустойчивые системы. '}\n",
      "{'Senior data scientist': 'Опыт разработки моделей машинного обучения. Опыт разработки на Python (ML, обработка данных, статистика, визуализация). Уверенное знание подходов и алгоритмов машинного...'}\n",
      "{'Senior Python-разработчик в SberDevices (команда Intelligent Search)': 'Владение Python3 на уверенном уровне, достаточном для промышленного программирования. Хорошие знания алгоритмов. Умение писать тесты, знакомство с подходом TDD. '}\n",
      "{'Junior Аналитик Python/SQL в Центр ИТ-валидации': 'Студент 1-2 курса магистратуры, обучающийся на информатике, математике, экономике. Хорошо знаешь мат. cтатистику и теорию вероятностей. Разбираешься в Python...'}\n",
      "{'Junior Python Developer': 'Высшее техническое образование (ИТ). Опыт разработки на Python (используем Python 3.6 и 3.7). Опыт работы с фреймворками Django...'}\n",
      "{'Главный инженер по сопровождению': 'Опыт работы СУБД Oracle или MS SQL. Знание основ SQL, умение писать несложные запросы. Scripting: Bash, Powershell или Python. '}\n",
      "{'Инженер по сопровождению (АСУР ФР для Рисков благосостояния)': 'Linux – работа в командной строке. Scripting: Bash, PowerShell или Python. Опыт работы c СУБД Oracle, MS SQL или PostgreSQL. '}\n",
      "{'Data Engineer SberChat': 'Уверенное знание SQL. Глубокое понимание реляционных СУБД и опыт работы с ними. Хорошие знания Python. Опыт работы с Airflow или...'}\n",
      "{'ETL разработчик': 'Хорошие знания SQL. Начальный / средний уровень Python. Плюсом будут - знание Pl/SQl, Apache Airflow.'}\n",
      "{'Data Engineer (Комплаенс)': 'Hadoop, ANSI SQL, PL/SQL, PL/pgSQL, Java, Python, ETL. Владение SQL. Навыки проектирования баз данных. Знания в области мат. '}\n",
      "{'Руководитель направления': 'Хорошие/отличные знания sql (plsql и oracle будет плюсом). Хороший уровень знаний java/spark (разработка DataPipelines). Начальный/средний уровень Python...'}\n",
      "{'Lead Support': 'Опыт написания скриптов на Python, Bash, Groovy. Опыт развертывания и поддержки приложений на Docker, OpenShift, Kubernetes. Опыт работы в крупной...'}\n",
      "{'Разработчик бизнес-процессов': 'Опыт разработки от года и выше на любом языке программирования (Python, C, PHP, JS, C#, Go, C, Java, R и...'}\n",
      "{'QA automation (стажер)': 'Понимание основных принципов тестирования ПО. Базовые знания Python и ООП. Базовые знания классических структур данных и алгоритмов. Знание основ компьютерных...'}\n",
      "{'Intern/Junior Python Developer': 'Уверенные знания Python, знание ООП и основных паттернов проектирования. Опыт разработки на веб-фреймворках (Flask, FastAPI). Работа с реляционными базами...'}\n",
      "{'Python разработчик в команду SberНадежность': 'Знания Python 3, SQL (Postgres), Rest API, Git и хотя бы одной из библиотек (aio_http, django или flask). '}\n",
      "{'Back-End\\xa0инженер C++ (Рекомендательная система)': 'Знание одного из языков программирования: C (С11 и выше), Python 3.x, Golang. Практический опыт работы с различными базами...'}\n",
      "{'Python разработчик (Платежи и переводы)': 'Имеет опыт коммерческой веб-разработки. - Отлично знает Python и SQL. - Умеет писать поддерживаемый и тестируемый код. - Владеет ООП как в...'}\n",
      "{'Программист Python': 'Мы стараемся использовать все современные доступные технологии для реализации распределенного ПО, способному выдерживать большие нагрузки 24/7 с минимальными затратами...'}\n",
      "{'Разработчик Python': 'Высшее техническое/математическое образование. - Опыт разработки backend (Python) приложений от 2-х лет. - Опыт разработки интеграционных решений на основе REST...'}\n",
      "{'Аналитик данных в команду голосовых и текстовых Ботов': 'Владение SQL, Spark, Python для обработки и анализа данных. Знания статистики для работы с гипотезами и доверительными интервалами. '}\n",
      "{'Старший аналитик данных': 'Владение SQL. Профессиональный уровень знаний Excel. Знание Python (Pandas, Numpy, matplotlib, seaborn). Опыт (учебный) построения и валидации моделей (xgboost, catboost...'}\n",
      "{'Python разработчик DomClick': 'Успешно проработали 3 лет в области создания программного обеспечения на аналогичной позиции. Успешно применяли последние пару лет в своей работе...'}\n",
      "{'Python разработчик': 'опыт промышленной разработки на Python от 3-х лет (если меньше, но глаза горят - тоже готовы обсуждать). - знание классических алгоритмов...'}\n",
      "{'Middle Python разработчик в SberDevices (инфраструктура поиска)': 'Опыт промышленной разработки на Python от 1 года. Опыт применения в работе классических алгоритмов. Знание классических структур данных и особенностей...'}\n",
      "{'Python-разработчик': 'Опыт коммерческой разработки на Python от 2-х лет. Системное мышление, ответственность, инициативность. Умение самостоятельно разобраться с задачей. '}\n",
      "{'Стажер (ML-инженер)': 'Высшее образование (можно неоконченное). Знание Python. Понимание работы ML алгоритмов. Опыт работы с Unix-подобных ОС. Опыт работы с СУБД...'}\n",
      "{'Разработчик ИСУ (SQL/Python)': 'имеешь базовые знания Python.  умеешь разбираться в технической документации и читать блок-схемы и диаграммы.  имеешь опыт работы с шаблонизатором...'}\n",
      "{'Golang разработчик': 'Знание одного из языков программирования: Golang, C (С11 и выше), Python 3.x. Практический опыт работы с различными базами...'}\n",
      "{'Data еngineer': 'хорошие/отличные знания sql/plsql, oracle. Начальный/средний уровень Python/Apache Airflow. - Высшее профильное образование.'}\n",
      "{'Data Scientist (NLP, анализ коммуникаций)': 'Уверенные знания классических алгоритмов машинного обучения, :sklearn: Умение решать на практике NLP задачи ,:pytorch: :hugging_face: Уверенное программирование на Python :python...'}\n",
      "{'Data engineer/Analyst DWH (Автоматизация управленческой отчётности)': 'Знание SQL (написание сложных запросов, создание таблиц и витрин, основы проектирования). Высокий уровень владения Excel. Знание Python (pandas, numpy, matplotlib...'}\n",
      "{'Senior QA-инженер (auto Python)': 'Опыт в роли QA автоматизатора на Python от 3х лет. Опыт работы с Python  PyTest. Знание SQL. '}\n",
      "{'QA Automation (Python)': 'Опыт работы в сфере тестирования мобильных приложений от 2-х лет, и разработки авто-тестов мобильных приложений от года. '}\n",
      "{'Data engineer (сс360)': 'понимание работы Hive, Spark на Hadoop. - базовые знания языков программирования Java/Scala (предпочтительно), Python. - знание SQL на уровне аналитических запросов. - '}\n",
      "{'Тестировщик (автоматизатор)': 'Опыт работы в тестировании ПО от 2 лет. Знание Python (знание фреймворка pytest) от 1 года. Опыт работы с Selenium...'}\n",
      "{'Data Scientist\\xa0(Middle/Senior) в Лабораторию нейронаук и поведения человека': 'Понимание и опыт практического применения математической статистики, теории вероятностей и методов машинного обучения. Знание SQL и Python (pandas, scikit-learn...'}\n",
      "{'Data Analyst (middle/senior) в Лабораторию нейронаук и поведения человека': 'Опыт работы с Big Data стеком: Hadoop, Hive, Spark. Уверенное знание Python и стандартного стека анализа данных (pandas, numpy, scipy). '}\n",
      "{'DevOps-инженер': 'Понимание принципов DevOps. Знание скриптовых языков – Bash, Python. Знание SQL на уровне написания простых запросов. Опыт написания pipeline для Jenkins...'}\n",
      "{'QA Automator Pythone (Проект Сash Flow)': 'Имеете опыт работы в тестировании ПО от 2 лет. Знание Python (знание фреймворка pytest) от 1 года. Опыт работы с...'}\n",
      "{'QA Automator Pythone (Проект Сash Flow)': 'Готовность временно подключиться на ручное тестирование (нечастая потребность). Опыт работы в тестировании ПО от 2 лет. Знание Python (знание фреймворка...'}\n",
      "{'Системный администратор в DevSecOps (команда Application Security)': 'Понимание современных DevOps-концепций и опыт использования средств автоматизации DevOps (Jenkins, groovy pipeline). Знание скриптовых языков программирования (Bash / Powershell / Python). '}\n",
      "{'DevOps (Кредитные продукты)': 'Требования: Отличные знания Linux-систем. Умение писать скрипты (Python, Bash, Groovy). Знание принципов работы Docker и Kubernetes, опыт решения проблем. '}\n",
      "{'DevOps specialist': 'Уверенное владение Linux. Работа с Docker, Kubernetes/OpenShift. Навыки деплоя приложений в Kubernetes/OpenShift. Python, Bash на уровне middle и...'}\n",
      "{'Главный инженер по нагрузочному тестированию (Сбер Инвестор)': 'Знаете один из языков программирования: C/С, Java, Python. Имеете опыт работы с СУБД Oracle/MS SQL/Postrges на уровне...'}\n",
      "{'Backend (Full stack) разработчик (команда Application Security)': 'Фреймворки: Spring (Boot, MVC, Security, Data, LDAP). Технологии: MyBatis, Thymeleaf. Языки: Java, SQL, Groovy, Shell, Python. Тестирование: JUnit, Mockito. '}\n",
      "{'Scala developer': 'Знание Scala (основной язык разработки), либо Java с желанием изучать Scala.  Приветствуется знание платформы Hadoop и Spark (Python).  '}\n",
      "{'Стажер(аналитик)': 'Знание основ: MS SQL (сложные запросы, процедуры, триггеры), XML, XSD, Python, PowerShell. Знание основ финансовых протоколов FIX, FIXML. '}\n",
      "{'Специалист по информационной безопасности (Пентестер)': 'Знание информационной/кибербезопасности безопасности (пентест, реверс инженеринг WEB и мобильных приложений). Знание Python или др. языков программирования, работа с базами...'}\n",
      "{'Python разработчик': 'Владение Python3 на уверенном уровне, достаточном для промышленного программирования. Хорошие знания алгоритмов. Умение писать тесты, знакомство с подходом TDD. '}\n",
      "{'Python разработчик': 'Знаете технологии NLP. Имеете опыт работы с Django, реляционными БД (Postgres). Знаете Javascript. Знаете Git, Docker. Имеете опыт работы с...'}\n",
      "{'Data engineer (junior)': 'Python(opencv, pytorch, numpy, pandas), bash , linux, git, docker, dvc , airflow. Опыт сбора и разметки данных (toloka, tagme, turk, etc.).'}\n",
      "{'Ведущий IT аудитор корпоративного бизнеса': 'Высшее техническое образование (мехмат/физмат/программирование). Программирование на Python (уровень Junior). Уверенное владение инструментарием работы с реляционными базами данных MS...'}\n",
      "{'Go-разработчик': 'Знание одного из языков программирования: Golang, C (С11 и выше), Python 3.x. Практический опыт работы с различными базами...'}\n",
      "{'L3 Support Engineer в Цифровые поверхности Салют (SberDevices)': 'Технический бэкграунд (Python не ниже junior). Хорошие софт скилы, хорошие коммуникативные навыки. Умение прочесть и понять техническую документацию, быстро освоить...'}\n",
      "{'Data Engineer': 'Владение SQL, Python для обработки данных. Знание распределенных систем обработки данных – Hadoop/Spark. Умение работать с большими массивами данных. '}\n",
      "{'Python-разработчик в Цифровые поверхности Салют (Виртуальные персонажи)': 'Владение Python3 на уверенном уровне, достаточном для промышленного программирования. Хорошие знания алгоритмов. Умение писать тесты, знакомство с подходом TDD. '}\n",
      "{'QA engineer (Персональное финансовое планирование)': 'Практический опыт или сильные теоретические знания в автоматизации тестирования на Java или Python. Навыки тест-дизайна. Знание SQL на продвинутом...'}\n",
      "{'QA инженер (Персональный финансовый менеджмент)': 'Практический опыт или сильные теоретические знания в автоматизации тестирования на Java или Python. Навыки тест-дизайна. Знание SQL на продвинутом...'}\n",
      "{'DevOps инженер (КИБ)': 'Опыт работы на скриптовых языках для написания сценариев (Bash/Python). Jenkins (библиотека на Groovy). Git - на уровне работы в команде. '}\n",
      "{'Главный экономист / Руководитель направления, Group ALM, Treasury': 'Высшее образование: финансовое / экономическое / техническое. Опыт работы в рисках / казначействе крупного банка от трех лет. Опыт работы с Python и...'}\n",
      "{'Go-разработчик': 'Знание одного из языков программирования: Golang, C (С11 и выше), Python 3.x. Практический опыт работы с различными базами...'}\n",
      "{'Ведущий инженер нагрузочного тестирования (QA Engineer)': 'Знаете HP Performance Center или HP Load Runner. Знаете как минимум один из языков программирования JAVA, C#, Perl, Python, C. '}\n",
      "{'QA инженер (SberInfra)': 'Требования: Опыт менторства команды по вопросам автоматизации/тестирования. Знание Java Core, Python. Опыт организации и проведения различных видов тестирования. '}\n",
      "{'Python Developer': 'Требования: Навыки, необходимые для выполнения обязанностей, в том числе знания по: Созданию сервисов с использованием моделей (от 2 лет опыта). '}\n",
      "{'DevOps инженер': 'Отличные знания Python, Spark. Опыт работы с DevOps инструментами (Docker, Kubernetes, OpenShift. Jenkins, Airflow ). Знание сетевых технологий и протоколов. '}\n",
      "{'Backend (Java) разработчик (команда Application Security)': 'Фреймворки: Spring (Boot, MVC, Security, Data, LDAP). Технологии: MyBatis, Thymeleaf. Языки: Java, SQL, Groovy, Shell, Python. Тестирование: JUnit, Mockito. '}\n",
      "{'Backend (Java) разработчик (команда Application Security)': 'Фреймворки: Spring (Boot, MVC, Security, Data, LDAP). Технологии: MyBatis, Thymeleaf. Языки: Java, SQL, Groovy, Shell, Python. Тестирование: JUnit, Mockito. '}\n",
      "{'QA Automation engineer (Python)': 'Отличное знание Python 3.7 (опыт системной разработки от 3х лет). Знание технологий контейнеризации и виртуализации (Docker, VMBox, VmWare). '}\n",
      "{'Middle/Senior Backend-developer Phyton, Django': 'Опыт разработки информационных систем не менее 5 лет. Опыт программирования на Python не менее 3 лет. Глубокие знания и опыт...'}\n",
      "{'Python-разработчик в Цифровые поверхности Салют (платформа монетизации видеоконтента)': 'Имеете опыт командной коммерческой разработки на Python3 от 2-х лет. Обладаете продвинутым знанием Django. Умеете писать Unit-тесты. '}\n",
      "{'Инженер по сопровождению': 'Опыт работы с Linux. Базовый уровень Python/Groovy. Понимание работы JVM. Опыт работы с Openshift, Nginx, Kafka, zookeeper, wildFly, DB...'}\n",
      "{'DevOps инженер': 'Высшее техническое образование, профильное по направлению ИТ является преимуществом. Знание Linux-систем. Умение писать скрипты (Python, Bash, Groovy). '}\n",
      "{'DevOps инженер собственной сборки': 'Опыт работы с Linux на уровне администратора от трёх лет. Опыт разработки скриптов на Bash/Python. Опыт работы и уверенное...'}\n",
      "{'Backend (Java) разработчик (команда Application Security)': 'Фреймворки: Spring (Boot, MVC, Security, Data, LDAP). Технологии: MyBatis, Thymeleaf. Языки: Java, SQL, Groovy, Shell, Python. Тестирование: JUnit, Mockito. '}\n",
      "{'DevOps Engineer': 'Высшее техническое образование, профильное по направлению ИТ является преимуществом. Знание Linux-систем. Умение писать скрипты (Python, Bash, Groovy). '}\n",
      "{'Data scientist (Центр валидации моделей розничного бизнеса)': 'Знание машинного обучения и статистического анализа (интересен любой опыт). Знание мат. статистики, алгоритмов, структур данных. Знание Python и/или R...'}\n",
      "{'Автотестировщик': 'Высшее техническое образование. Знание Python. Опыт работы с реляционными БД. Преимуществом будет PostgreSQL. Опыт работы с Git. Умения работать в...'}\n",
      "{'Ведущий аудитор': 'Образование высшее техническое в области ИТ-технологий. Развитые ИТ компетенции. Знание языков программирования SQL и Python. Опыт работы программистом от...'}\n",
      "{'Data Manager (Intelligent Document Processing)': 'Основные знания Python для аналитики CV данных (opencv, PIL, pandas, numpy). Базовые навыки работы с командной строкой. Усидчивость, организованность, ответственность...'}\n",
      "{'Старший IT аудитор обеспечивающих процессов': 'Уверенное программирование на Python / С# (уровень junior). Уверенное владение инструментарием работы с реляционными базами данных (MS SQL / Oracle). '}\n",
      "{'Senior Data Scientist/ML Engineer SberDevices': 'Уверенное владение Python на рабочем уровне. Хорошее знание классических алгоритмов и структур данных. Базовые знания и желание развиваться в области...'}\n",
      "{'Старший IT аудитор корпоративного бизнеса': 'Высшее техническое образование (мехмат/физмат/программирование). Уверенное программирование на Python (уровень Junior). Уверенное владение инструментарием работы с реляционными базами данных...'}\n",
      "{'Python developer (Digital Business Platform)': 'От тебя ожидаем техническую грамотность и внимательность к деталям. Опыт коммерческой разработки серверных приложений на python. Понимание основных принципов и...'}\n",
      "{'CV Engineer (SberDevices)': 'Опыт обучения больших картиночных моделей (классификация, сегментация, детекция, поза). Владение Python и Linux shell на уровне, достаточном для прототипирования алгоритмов...'}\n",
      "{'NLP-Developer': 'Высшее техническое / математическое образование. Понимание линейной алгебры и основ мат. анализа. Опыт промышленной разработки на Python от 3-х лет. '}\n",
      "{'Senior Data Scientist/ML Engineer SberDevices': 'Уверенное владение Python на рабочем уровне. Хорошее знание классических алгоритмов и структур данных. Базовые знания и желание развиваться в области...'}\n",
      "{'Python developer (платформа \"Релизный портал\")': 'Коммерческая разработка на Python от 2 лет (глубокое понимание принципов ООП и шаблонов проектирования). - Опыт разработки серверных приложений на веб...'}\n",
      "{'Data scientist (залоговые процессы)': 'Опыт построения ML-моделей. Уверенное знание Python, алгоритмов машинного обучения и библиотек (sklearn, pandas, numpy, catboost, XGBoost). Знание методов оценки...'}\n",
      "{'Data Scientist': 'Увлечены data science и умеете анализировать данные. Знаете эконометрику и методы машинного обучения. Знаете Python на продвинутом уровне. '}\n",
      "{'Back-End инженер Golang (Рекомендательная система)': 'Знание одного из языков программирования: Golang, C (С11 и выше), Python 3.x. Практический опыт работы с различными базами...'}\n",
      "{'Data Scientist (Sber AI Lab Med AI)': 'Знания и опыт в области Data Science (от 3 лет). Хорошее знание Python (в том числе опыт работы с Python...'}\n",
      "{'CDS трайба \"Цифровой кредитный мониторинг\"': 'Знание структур данных. Языки программирования (Python) и языков запросов (SQL). Знание стека работы с данными (numpy, pandas, scipy, …). '}\n",
      "{'Аналитик данных/ data engineer': 'Хорошие знания SQL. Знания Python. Понимание баз данных Oracle и Teradata как преимущество. Коммуникабельность, амбициозность и энергия.'}\n",
      "{'Data Scientist (Центр валидации моделей сервисных блоков и экосистемы)': 'Знание машинного обучения и статистического анализа (интересен любой опыт). Знание мат. статистики, алгоритмов, структур данных. Знание Python и/или R...'}\n",
      "{'Руководитель разработки Python': 'Микросервисная архитектура. Design Patterns. Kubernetes, gitlab-ci. Aiohttp. Django-filters. Pypi - packaging, gRPC. Опыт работы с DevOps инструментами (Jira, Jenkins...'}\n",
      "{'DevOps specialist (Сбол.Про)': 'Высшее техническое/IT образование. Опыт реализации решений CI/CD на тех стеке Jenkins, Ansible, Groove, Python, Maven, Nexus, Git, VMware...'}\n",
      "{'Data Scientist (Направление разработки моделей оценки кредитных рисков)': 'Опыт в разработке моделей на Python. Отличное знание SQL. Понимание основ статистики и теории вероятности. Продукты: Hadoop, PySpark, Hive. '}\n",
      "{'Python-разработчик в Цифровые поверхности Салют (Речевые технологии)': 'Опыт промышленной командной разработки на Python 3 от двух лет. Знание классических алгоритмов и структур данных. Знание английского языка: прочитать...'}\n",
      "{'Python-разработчик в Цифровые поверхности Салют (SmartApps)': 'Владение Python3 на уверенном уровне, достаточном для промышленного программирования. Хорошие знания алгоритмов. Умение писать тесты, знакомство с подходом TDD. '}\n",
      "{'Golang разработчик': 'Знание одного из языков программирования: Golang, C (С11 и выше), Python 3.x. Практический опыт работы с различными базами...'}\n",
      "{'Data Engineer': 'Опыт написания приложений на Java/Python/Scala. Опыт работы со стеком технологий Big Data (Hadoop, Spark, Hive, Impala, HBase). '}\n",
      "{'Python-разработчик в Цифровые поверхности Салют (платформа\\xa0компьютерного зрения)': 'Уверенно знаете python 3.6. Понимаете процессы машинного обучения. Понимаете работу и опыт организацию CI/CD. Понимаете как архитектурно строить...'}\n",
      "{'Python-разработчик в Цифровые поверхности Салют (направление B2B2C)': 'опыт промышленной разработки на Python от 2-х лет. - отличное знание SQL (на уровне составления достаточно сложных запросов и их...'}\n",
      "{'TeamLead\\xa0Python в Цифровые поверхности Салют (направление\\xa0SmartApp)': 'Опыт промышленного программирования на Python3 от 3-х лет. Хорошие знания алгоритмов, архитектуры сервисов. Умение писать тесты. '}\n",
      "{'Senior Python-разработчик в Цифровые поверхности Салют (SberDevices)': 'Опыт промышленной разработки на Python3 от 3-х лет. Знание шаблонов проектирования и умение их применять. Знание алгоритмов и...'}\n",
      "{'Python-разработчик в Цифровые поверхности Салют (core-навыки голосового ассистента)': 'Имеете коммерческий опыт разработки на python от 2-х лет (знаете генераторы и итераторы, магические методы, декораторы). Имеете знания и...'}\n"
     ]
    },
    {
     "data": {
      "text/plain": [
       "197"
      ]
     },
     "execution_count": 8,
     "metadata": {},
     "output_type": "execute_result"
    }
   ],
   "source": [
    "# Найдите те вакансии с использованием python, которые вам интересны\n",
    "interesting_vacancies=[]\n",
    "for i in vacancies_skills:\n",
    "        if str('Python') in str(i.items()):\n",
    "            print(i)\n",
    "            interesting_vacancies.append(i)\n",
    "\n",
    "len(interesting_vacancies)"
   ]
  },
  {
   "cell_type": "code",
   "execution_count": 9,
   "metadata": {},
   "outputs": [
    {
     "data": {
      "text/plain": [
       "[('опыт', 190),\n",
       " ('python', 173),\n",
       " ('и', 126),\n",
       " ('знание', 125),\n",
       " ('работы', 110),\n",
       " ('с', 103),\n",
       " ('на', 95),\n",
       " ('в', 64),\n",
       " ('sql', 60),\n",
       " ('знания', 45),\n",
       " ('разработки', 44),\n",
       " ('от', 44),\n",
       " ('', 42),\n",
       " ('лет', 41),\n",
       " ('данных', 40),\n",
       " ('программирования', 39),\n",
       " ('алгоритмов', 32),\n",
       " ('языков', 26),\n",
       " ('образование', 25),\n",
       " ('понимание', 25),\n",
       " ('уровне', 25),\n",
       " ('высшее', 24),\n",
       " ('владение', 23),\n",
       " ('для', 22),\n",
       " ('умение', 22),\n",
       " ('навыки', 21),\n",
       " ('bash', 20),\n",
       " ('java', 20),\n",
       " ('уверенное', 19),\n",
       " ('имеете', 19),\n",
       " ('c', 19),\n",
       " ('linux', 18),\n",
       " ('или', 18),\n",
       " ('писать', 18),\n",
       " ('машинного', 16),\n",
       " ('обучения', 16),\n",
       " ('по', 16),\n",
       " ('pandas', 16),\n",
       " ('структур', 15),\n",
       " ('уровень', 15),\n",
       " ('практический', 15),\n",
       " ('хорошие', 15),\n",
       " ('groovy', 15),\n",
       " ('области', 15),\n",
       " ('базами', 15),\n",
       " ('анализа', 14),\n",
       " ('тестирования', 14),\n",
       " ('из', 14),\n",
       " ('приложений', 14),\n",
       " ('3', 13)]"
      ]
     },
     "execution_count": 9,
     "metadata": {},
     "output_type": "execute_result"
    }
   ],
   "source": [
    "# Определите по полю skills какие навыки больше всего востребованы для этих вакансий, и\n",
    "import string\n",
    "from collections import Counter\n",
    "\n",
    "interesting_vacancies_skills=[]\n",
    "for i in interesting_vacancies:\n",
    "    vol=[]\n",
    "    vol=list(i.values())[0]\n",
    "    vol = str(vol).split()\n",
    "    interesting_vacancies_skills.append(vol)\n",
    "\n",
    "exclude = set(string.punctuation)\n",
    "\n",
    "words = [(''.join(ch for ch in j if ch not in exclude)) for i in interesting_vacancies_skills for j in i]\n",
    "\n",
    "words=[i.lower() for i in words]\n",
    "\n",
    "\n",
    "\n",
    "words_to_count = (word for word in words)\n",
    "c = Counter(words_to_count)\n",
    "c.most_common(50)\n",
    "\n",
    "# итого это python, sql, java, linux, bash, pandas, высшее образование, тестирование, машинное обучение"
   ]
  },
  {
   "cell_type": "code",
   "execution_count": 35,
   "metadata": {},
   "outputs": [
    {
     "data": {
      "application/vnd.jupyter.widget-view+json": {
       "model_id": "4704fc2a0fd14d5f918e101d75f97f20",
       "version_major": 2,
       "version_minor": 0
      },
      "text/plain": [
       "  0%|          | 0/1 [00:00<?, ?it/s]"
      ]
     },
     "metadata": {},
     "output_type": "display_data"
    },
    {
     "data": {
      "application/vnd.jupyter.widget-view+json": {
       "model_id": "38c1882330624dc2bfa7056f669bcb2e",
       "version_major": 2,
       "version_minor": 0
      },
      "text/plain": [
       "  0%|          | 0/1 [00:00<?, ?it/s]"
      ]
     },
     "metadata": {},
     "output_type": "display_data"
    },
    {
     "data": {
      "application/vnd.jupyter.widget-view+json": {
       "model_id": "01f6f3f6b8fc497e95c9604ce8a927ae",
       "version_major": 2,
       "version_minor": 0
      },
      "text/plain": [
       "  0%|          | 0/1 [00:00<?, ?it/s]"
      ]
     },
     "metadata": {},
     "output_type": "display_data"
    },
    {
     "data": {
      "application/vnd.jupyter.widget-view+json": {
       "model_id": "d4439e7f80eb45f695849b7aa0025c6c",
       "version_major": 2,
       "version_minor": 0
      },
      "text/plain": [
       "  0%|          | 0/1 [00:00<?, ?it/s]"
      ]
     },
     "metadata": {},
     "output_type": "display_data"
    },
    {
     "data": {
      "application/vnd.jupyter.widget-view+json": {
       "model_id": "8cd475ab30fa4476a06018549b09b04b",
       "version_major": 2,
       "version_minor": 0
      },
      "text/plain": [
       "  0%|          | 0/1 [00:00<?, ?it/s]"
      ]
     },
     "metadata": {},
     "output_type": "display_data"
    },
    {
     "data": {
      "application/vnd.jupyter.widget-view+json": {
       "model_id": "95ca1d47ac144737920b522d892ab737",
       "version_major": 2,
       "version_minor": 0
      },
      "text/plain": [
       "  0%|          | 0/1 [00:00<?, ?it/s]"
      ]
     },
     "metadata": {},
     "output_type": "display_data"
    },
    {
     "data": {
      "application/vnd.jupyter.widget-view+json": {
       "model_id": "ea2e8f43abfc44628d718e439853c726",
       "version_major": 2,
       "version_minor": 0
      },
      "text/plain": [
       "  0%|          | 0/1 [00:00<?, ?it/s]"
      ]
     },
     "metadata": {},
     "output_type": "display_data"
    },
    {
     "data": {
      "application/vnd.jupyter.widget-view+json": {
       "model_id": "3fd1ee76cbf54d3e909b958ec39fa835",
       "version_major": 2,
       "version_minor": 0
      },
      "text/plain": [
       "  0%|          | 0/1 [00:00<?, ?it/s]"
      ]
     },
     "metadata": {},
     "output_type": "display_data"
    },
    {
     "data": {
      "application/vnd.jupyter.widget-view+json": {
       "model_id": "0ffd33a3691443cfb9eefa42188e4387",
       "version_major": 2,
       "version_minor": 0
      },
      "text/plain": [
       "  0%|          | 0/1 [00:00<?, ?it/s]"
      ]
     },
     "metadata": {},
     "output_type": "display_data"
    },
    {
     "data": {
      "application/vnd.jupyter.widget-view+json": {
       "model_id": "bd3378f5749047ada4d2cf5c8a08bdf8",
       "version_major": 2,
       "version_minor": 0
      },
      "text/plain": [
       "  0%|          | 0/1 [00:00<?, ?it/s]"
      ]
     },
     "metadata": {},
     "output_type": "display_data"
    },
    {
     "data": {
      "application/vnd.jupyter.widget-view+json": {
       "model_id": "8f60acee3eed462ab719487505e2913c",
       "version_major": 2,
       "version_minor": 0
      },
      "text/plain": [
       "  0%|          | 0/1 [00:00<?, ?it/s]"
      ]
     },
     "metadata": {},
     "output_type": "display_data"
    },
    {
     "data": {
      "application/vnd.jupyter.widget-view+json": {
       "model_id": "30cc64655b754178aa44dcebc0849d1a",
       "version_major": 2,
       "version_minor": 0
      },
      "text/plain": [
       "  0%|          | 0/1 [00:00<?, ?it/s]"
      ]
     },
     "metadata": {},
     "output_type": "display_data"
    },
    {
     "data": {
      "application/vnd.jupyter.widget-view+json": {
       "model_id": "5c297afc898f4f2eb9b9f0e0d098bbfc",
       "version_major": 2,
       "version_minor": 0
      },
      "text/plain": [
       "  0%|          | 0/1 [00:00<?, ?it/s]"
      ]
     },
     "metadata": {},
     "output_type": "display_data"
    },
    {
     "data": {
      "application/vnd.jupyter.widget-view+json": {
       "model_id": "378f8eb5b64847e2b0a5d9097f8c6ce2",
       "version_major": 2,
       "version_minor": 0
      },
      "text/plain": [
       "  0%|          | 0/1 [00:00<?, ?it/s]"
      ]
     },
     "metadata": {},
     "output_type": "display_data"
    },
    {
     "data": {
      "application/vnd.jupyter.widget-view+json": {
       "model_id": "af7a1606b64b4f76a78c0a4249ca987a",
       "version_major": 2,
       "version_minor": 0
      },
      "text/plain": [
       "  0%|          | 0/1 [00:00<?, ?it/s]"
      ]
     },
     "metadata": {},
     "output_type": "display_data"
    },
    {
     "data": {
      "application/vnd.jupyter.widget-view+json": {
       "model_id": "db9c2da5d9624bfbbe0386ee6147f6ae",
       "version_major": 2,
       "version_minor": 0
      },
      "text/plain": [
       "  0%|          | 0/1 [00:00<?, ?it/s]"
      ]
     },
     "metadata": {},
     "output_type": "display_data"
    },
    {
     "data": {
      "application/vnd.jupyter.widget-view+json": {
       "model_id": "c0cf962fcb6c4760abd0f315c32167fd",
       "version_major": 2,
       "version_minor": 0
      },
      "text/plain": [
       "  0%|          | 0/1 [00:00<?, ?it/s]"
      ]
     },
     "metadata": {},
     "output_type": "display_data"
    },
    {
     "data": {
      "application/vnd.jupyter.widget-view+json": {
       "model_id": "2001cfc1e2cb428686e341e1d4397546",
       "version_major": 2,
       "version_minor": 0
      },
      "text/plain": [
       "  0%|          | 0/1 [00:00<?, ?it/s]"
      ]
     },
     "metadata": {},
     "output_type": "display_data"
    },
    {
     "data": {
      "application/vnd.jupyter.widget-view+json": {
       "model_id": "67c74ad006964c23826673e5d9fc4851",
       "version_major": 2,
       "version_minor": 0
      },
      "text/plain": [
       "  0%|          | 0/1 [00:00<?, ?it/s]"
      ]
     },
     "metadata": {},
     "output_type": "display_data"
    },
    {
     "data": {
      "application/vnd.jupyter.widget-view+json": {
       "model_id": "eb8d640e095e47029f53916e5a55bca7",
       "version_major": 2,
       "version_minor": 0
      },
      "text/plain": [
       "  0%|          | 0/1 [00:00<?, ?it/s]"
      ]
     },
     "metadata": {},
     "output_type": "display_data"
    },
    {
     "data": {
      "application/vnd.jupyter.widget-view+json": {
       "model_id": "d1043e32283349e4ab0b5cb72674f78b",
       "version_major": 2,
       "version_minor": 0
      },
      "text/plain": [
       "  0%|          | 0/1 [00:00<?, ?it/s]"
      ]
     },
     "metadata": {},
     "output_type": "display_data"
    },
    {
     "data": {
      "application/vnd.jupyter.widget-view+json": {
       "model_id": "5f59de9518e7499d902693f57952e1c0",
       "version_major": 2,
       "version_minor": 0
      },
      "text/plain": [
       "  0%|          | 0/1 [00:00<?, ?it/s]"
      ]
     },
     "metadata": {},
     "output_type": "display_data"
    },
    {
     "data": {
      "application/vnd.jupyter.widget-view+json": {
       "model_id": "e710df670d464339810be306de89ac9f",
       "version_major": 2,
       "version_minor": 0
      },
      "text/plain": [
       "  0%|          | 0/1 [00:00<?, ?it/s]"
      ]
     },
     "metadata": {},
     "output_type": "display_data"
    },
    {
     "data": {
      "application/vnd.jupyter.widget-view+json": {
       "model_id": "e62135d11eda4ec68ca5b12d8c1b76ea",
       "version_major": 2,
       "version_minor": 0
      },
      "text/plain": [
       "  0%|          | 0/1 [00:00<?, ?it/s]"
      ]
     },
     "metadata": {},
     "output_type": "display_data"
    },
    {
     "data": {
      "application/vnd.jupyter.widget-view+json": {
       "model_id": "24ae1f2d334649a896cde985729099c9",
       "version_major": 2,
       "version_minor": 0
      },
      "text/plain": [
       "  0%|          | 0/2 [00:00<?, ?it/s]"
      ]
     },
     "metadata": {},
     "output_type": "display_data"
    },
    {
     "data": {
      "application/vnd.jupyter.widget-view+json": {
       "model_id": "2344470f630f46bfb49d1be61a9946ee",
       "version_major": 2,
       "version_minor": 0
      },
      "text/plain": [
       "  0%|          | 0/1 [00:00<?, ?it/s]"
      ]
     },
     "metadata": {},
     "output_type": "display_data"
    },
    {
     "data": {
      "application/vnd.jupyter.widget-view+json": {
       "model_id": "ba1eaff038a44bd5a45b4100edeaee77",
       "version_major": 2,
       "version_minor": 0
      },
      "text/plain": [
       "  0%|          | 0/1 [00:00<?, ?it/s]"
      ]
     },
     "metadata": {},
     "output_type": "display_data"
    },
    {
     "data": {
      "application/vnd.jupyter.widget-view+json": {
       "model_id": "2d7e1b309c5f4958956e6062b6d0e047",
       "version_major": 2,
       "version_minor": 0
      },
      "text/plain": [
       "  0%|          | 0/2 [00:00<?, ?it/s]"
      ]
     },
     "metadata": {},
     "output_type": "display_data"
    },
    {
     "data": {
      "application/vnd.jupyter.widget-view+json": {
       "model_id": "981142b9c91f422ea664c0d29411ecef",
       "version_major": 2,
       "version_minor": 0
      },
      "text/plain": [
       "  0%|          | 0/1 [00:00<?, ?it/s]"
      ]
     },
     "metadata": {},
     "output_type": "display_data"
    },
    {
     "data": {
      "application/vnd.jupyter.widget-view+json": {
       "model_id": "c1d79729c36a4a7398d29a5aac840deb",
       "version_major": 2,
       "version_minor": 0
      },
      "text/plain": [
       "  0%|          | 0/1 [00:00<?, ?it/s]"
      ]
     },
     "metadata": {},
     "output_type": "display_data"
    },
    {
     "data": {
      "application/vnd.jupyter.widget-view+json": {
       "model_id": "9fe0e8dbc4224a118aef4aeb6ba70b2f",
       "version_major": 2,
       "version_minor": 0
      },
      "text/plain": [
       "  0%|          | 0/2 [00:00<?, ?it/s]"
      ]
     },
     "metadata": {},
     "output_type": "display_data"
    },
    {
     "data": {
      "application/vnd.jupyter.widget-view+json": {
       "model_id": "b7174319f8104c43a44eeb6c43b1c205",
       "version_major": 2,
       "version_minor": 0
      },
      "text/plain": [
       "  0%|          | 0/2 [00:00<?, ?it/s]"
      ]
     },
     "metadata": {},
     "output_type": "display_data"
    },
    {
     "data": {
      "application/vnd.jupyter.widget-view+json": {
       "model_id": "47b4c71b9e9e449e91883ba613b4f06c",
       "version_major": 2,
       "version_minor": 0
      },
      "text/plain": [
       "  0%|          | 0/2 [00:00<?, ?it/s]"
      ]
     },
     "metadata": {},
     "output_type": "display_data"
    },
    {
     "data": {
      "application/vnd.jupyter.widget-view+json": {
       "model_id": "f9f2c6c9b5454433a1bd84cacbe375ee",
       "version_major": 2,
       "version_minor": 0
      },
      "text/plain": [
       "  0%|          | 0/2 [00:00<?, ?it/s]"
      ]
     },
     "metadata": {},
     "output_type": "display_data"
    },
    {
     "data": {
      "application/vnd.jupyter.widget-view+json": {
       "model_id": "f89bd0f549874c998fbee60097d8edc9",
       "version_major": 2,
       "version_minor": 0
      },
      "text/plain": [
       "  0%|          | 0/2 [00:00<?, ?it/s]"
      ]
     },
     "metadata": {},
     "output_type": "display_data"
    },
    {
     "data": {
      "application/vnd.jupyter.widget-view+json": {
       "model_id": "8ff52859ca274d258eb8389697d0ecc2",
       "version_major": 2,
       "version_minor": 0
      },
      "text/plain": [
       "  0%|          | 0/1 [00:00<?, ?it/s]"
      ]
     },
     "metadata": {},
     "output_type": "display_data"
    },
    {
     "data": {
      "application/vnd.jupyter.widget-view+json": {
       "model_id": "8866089aaff7401cac26d4ea313fa40d",
       "version_major": 2,
       "version_minor": 0
      },
      "text/plain": [
       "  0%|          | 0/1 [00:00<?, ?it/s]"
      ]
     },
     "metadata": {},
     "output_type": "display_data"
    },
    {
     "data": {
      "application/vnd.jupyter.widget-view+json": {
       "model_id": "c5e6e24eadb249a2950ac4f5e25d6fec",
       "version_major": 2,
       "version_minor": 0
      },
      "text/plain": [
       "  0%|          | 0/3 [00:00<?, ?it/s]"
      ]
     },
     "metadata": {},
     "output_type": "display_data"
    },
    {
     "data": {
      "application/vnd.jupyter.widget-view+json": {
       "model_id": "9c71557d6a3a4c6685c1a92a6af0beb0",
       "version_major": 2,
       "version_minor": 0
      },
      "text/plain": [
       "  0%|          | 0/2 [00:00<?, ?it/s]"
      ]
     },
     "metadata": {},
     "output_type": "display_data"
    },
    {
     "data": {
      "application/vnd.jupyter.widget-view+json": {
       "model_id": "fe7c1a4c7f5749048c62b305c44ed31e",
       "version_major": 2,
       "version_minor": 0
      },
      "text/plain": [
       "  0%|          | 0/3 [00:00<?, ?it/s]"
      ]
     },
     "metadata": {},
     "output_type": "display_data"
    },
    {
     "data": {
      "application/vnd.jupyter.widget-view+json": {
       "model_id": "1306f259f5014ca1afa7f11fdc7000e1",
       "version_major": 2,
       "version_minor": 0
      },
      "text/plain": [
       "  0%|          | 0/2 [00:00<?, ?it/s]"
      ]
     },
     "metadata": {},
     "output_type": "display_data"
    },
    {
     "data": {
      "application/vnd.jupyter.widget-view+json": {
       "model_id": "50f7b4c5b9bc4f4b9a5deec0530e46ed",
       "version_major": 2,
       "version_minor": 0
      },
      "text/plain": [
       "  0%|          | 0/1 [00:00<?, ?it/s]"
      ]
     },
     "metadata": {},
     "output_type": "display_data"
    },
    {
     "data": {
      "application/vnd.jupyter.widget-view+json": {
       "model_id": "019bb75888824760bb43bae3f9320783",
       "version_major": 2,
       "version_minor": 0
      },
      "text/plain": [
       "  0%|          | 0/1 [00:00<?, ?it/s]"
      ]
     },
     "metadata": {},
     "output_type": "display_data"
    },
    {
     "data": {
      "application/vnd.jupyter.widget-view+json": {
       "model_id": "ab6a37fd939846afb9adc1c20c6e8a40",
       "version_major": 2,
       "version_minor": 0
      },
      "text/plain": [
       "  0%|          | 0/1 [00:00<?, ?it/s]"
      ]
     },
     "metadata": {},
     "output_type": "display_data"
    },
    {
     "data": {
      "application/vnd.jupyter.widget-view+json": {
       "model_id": "645ea41753514a4a9a20be13544c2587",
       "version_major": 2,
       "version_minor": 0
      },
      "text/plain": [
       "  0%|          | 0/1 [00:00<?, ?it/s]"
      ]
     },
     "metadata": {},
     "output_type": "display_data"
    },
    {
     "data": {
      "application/vnd.jupyter.widget-view+json": {
       "model_id": "b4a4af31085f485e90867e5d21565051",
       "version_major": 2,
       "version_minor": 0
      },
      "text/plain": [
       "  0%|          | 0/1 [00:00<?, ?it/s]"
      ]
     },
     "metadata": {},
     "output_type": "display_data"
    },
    {
     "data": {
      "application/vnd.jupyter.widget-view+json": {
       "model_id": "6a60ecfebe9b4891b974cc959a6621ab",
       "version_major": 2,
       "version_minor": 0
      },
      "text/plain": [
       "  0%|          | 0/1 [00:00<?, ?it/s]"
      ]
     },
     "metadata": {},
     "output_type": "display_data"
    },
    {
     "data": {
      "application/vnd.jupyter.widget-view+json": {
       "model_id": "731f12662d6644819b356ef4e942decf",
       "version_major": 2,
       "version_minor": 0
      },
      "text/plain": [
       "  0%|          | 0/1 [00:00<?, ?it/s]"
      ]
     },
     "metadata": {},
     "output_type": "display_data"
    },
    {
     "data": {
      "application/vnd.jupyter.widget-view+json": {
       "model_id": "7ad57ea4d84f4c1da97d382e30af5a6e",
       "version_major": 2,
       "version_minor": 0
      },
      "text/plain": [
       "  0%|          | 0/1 [00:00<?, ?it/s]"
      ]
     },
     "metadata": {},
     "output_type": "display_data"
    },
    {
     "data": {
      "application/vnd.jupyter.widget-view+json": {
       "model_id": "71577b76f0e34711912f0693c3bb9f71",
       "version_major": 2,
       "version_minor": 0
      },
      "text/plain": [
       "  0%|          | 0/1 [00:00<?, ?it/s]"
      ]
     },
     "metadata": {},
     "output_type": "display_data"
    },
    {
     "data": {
      "application/vnd.jupyter.widget-view+json": {
       "model_id": "af829a0528554f61bada3433864535e5",
       "version_major": 2,
       "version_minor": 0
      },
      "text/plain": [
       "  0%|          | 0/1 [00:00<?, ?it/s]"
      ]
     },
     "metadata": {},
     "output_type": "display_data"
    },
    {
     "data": {
      "application/vnd.jupyter.widget-view+json": {
       "model_id": "a35fef6ecb6b47fb8ca6418012a5d157",
       "version_major": 2,
       "version_minor": 0
      },
      "text/plain": [
       "  0%|          | 0/4 [00:00<?, ?it/s]"
      ]
     },
     "metadata": {},
     "output_type": "display_data"
    },
    {
     "data": {
      "application/vnd.jupyter.widget-view+json": {
       "model_id": "286daaa8b8d94b2f9e80ed8a38150587",
       "version_major": 2,
       "version_minor": 0
      },
      "text/plain": [
       "  0%|          | 0/4 [00:00<?, ?it/s]"
      ]
     },
     "metadata": {},
     "output_type": "display_data"
    },
    {
     "data": {
      "application/vnd.jupyter.widget-view+json": {
       "model_id": "45040956ae75483788d7724521f4b6c9",
       "version_major": 2,
       "version_minor": 0
      },
      "text/plain": [
       "  0%|          | 0/3 [00:00<?, ?it/s]"
      ]
     },
     "metadata": {},
     "output_type": "display_data"
    },
    {
     "data": {
      "application/vnd.jupyter.widget-view+json": {
       "model_id": "22e5d261abb54848bc0d2ac852035833",
       "version_major": 2,
       "version_minor": 0
      },
      "text/plain": [
       "  0%|          | 0/4 [00:00<?, ?it/s]"
      ]
     },
     "metadata": {},
     "output_type": "display_data"
    },
    {
     "data": {
      "application/vnd.jupyter.widget-view+json": {
       "model_id": "e00ba09a98fb4fa7aacfc75634c9d867",
       "version_major": 2,
       "version_minor": 0
      },
      "text/plain": [
       "  0%|          | 0/3 [00:00<?, ?it/s]"
      ]
     },
     "metadata": {},
     "output_type": "display_data"
    },
    {
     "data": {
      "application/vnd.jupyter.widget-view+json": {
       "model_id": "711e9ca09804405597133f297168f766",
       "version_major": 2,
       "version_minor": 0
      },
      "text/plain": [
       "  0%|          | 0/1 [00:00<?, ?it/s]"
      ]
     },
     "metadata": {},
     "output_type": "display_data"
    },
    {
     "data": {
      "application/vnd.jupyter.widget-view+json": {
       "model_id": "b33bfaf485a741319d89bdd2b0f46f68",
       "version_major": 2,
       "version_minor": 0
      },
      "text/plain": [
       "  0%|          | 0/1 [00:00<?, ?it/s]"
      ]
     },
     "metadata": {},
     "output_type": "display_data"
    },
    {
     "data": {
      "application/vnd.jupyter.widget-view+json": {
       "model_id": "3d46c2a84fc84efd9efcadc98a6f1564",
       "version_major": 2,
       "version_minor": 0
      },
      "text/plain": [
       "  0%|          | 0/5 [00:00<?, ?it/s]"
      ]
     },
     "metadata": {},
     "output_type": "display_data"
    },
    {
     "data": {
      "application/vnd.jupyter.widget-view+json": {
       "model_id": "f4cba250147e414da5c8e74e73c35f14",
       "version_major": 2,
       "version_minor": 0
      },
      "text/plain": [
       "  0%|          | 0/4 [00:00<?, ?it/s]"
      ]
     },
     "metadata": {},
     "output_type": "display_data"
    },
    {
     "data": {
      "application/vnd.jupyter.widget-view+json": {
       "model_id": "86b4ad47051042469afe79c71b659ae1",
       "version_major": 2,
       "version_minor": 0
      },
      "text/plain": [
       "  0%|          | 0/4 [00:00<?, ?it/s]"
      ]
     },
     "metadata": {},
     "output_type": "display_data"
    },
    {
     "data": {
      "application/vnd.jupyter.widget-view+json": {
       "model_id": "0545ea05aa9547b28e342caa3367b770",
       "version_major": 2,
       "version_minor": 0
      },
      "text/plain": [
       "  0%|          | 0/8 [00:00<?, ?it/s]"
      ]
     },
     "metadata": {},
     "output_type": "display_data"
    },
    {
     "data": {
      "application/vnd.jupyter.widget-view+json": {
       "model_id": "886cec959388403e9d07be26305fa0c0",
       "version_major": 2,
       "version_minor": 0
      },
      "text/plain": [
       "  0%|          | 0/1 [00:00<?, ?it/s]"
      ]
     },
     "metadata": {},
     "output_type": "display_data"
    }
   ],
   "source": [
    "# Постройте график наиболее востребованных вакансий\n",
    "\n",
    "last_date = datetime.datetime.today()+relativedelta(days=1)\n",
    "first_date = datetime.datetime.today()-relativedelta(months=2)\n",
    "\n",
    "\n",
    "def getPage(page = 0):\n",
    "    params = {\n",
    "        'employer_id': '3529',\n",
    "        'area': 113,\n",
    "        'page': page,\n",
    "        'per_page': 100,\n",
    "        'date_from': first_date.strftime('%Y-%m-%d'),\n",
    "        'date_to': first_date.strftime('%Y-%m-%d'),\n",
    "        'responses_count_enabled': True\n",
    "    }\n",
    "    req = requests.get('https://api.hh.ru/vacancies', params)\n",
    "    data = req.content.decode()\n",
    "    req.close()\n",
    "    return data\n",
    "\n",
    "\n",
    "vacancies_interesting={}\n",
    "while first_date <= last_date:\n",
    "    for page in tqdm(range(json.loads(getPage(0)).get('pages'))):\n",
    "        vacancy_ids={}\n",
    "        vacancies = json.loads(getPage(page))\n",
    "        for el in vacancies.get('items'):\n",
    "            vacancy_ids.update({el.get('name'): (el.get('counters')).get('responses')}) \n",
    "        vacancies_interesting.update(vacancy_ids)\n",
    "    first_date += datetime.timedelta(days = 1)"
   ]
  },
  {
   "cell_type": "code",
   "execution_count": 36,
   "metadata": {},
   "outputs": [
    {
     "name": "stdout",
     "output_type": "stream",
     "text": [
      "Топ сколько профессий необходимо вывести?\n",
      "10\n",
      "[('Водитель-инкассатор ПТС', 423), ('Водитель (персональный)', 392), ('Исполнительный директор (Зарплатные проекты)', 384), ('Junior UX/UI дизайнер', 378), ('Ассистент Управления', 340), ('Модератор видеоконтента в SberDevices', 339), ('Специалист Сбер', 321), ('Дизайнер презентаций', 301), ('Ведущий специалист отдела обработки документов', 297), ('Руководитель юридического направления', 294)]\n"
     ]
    },
    {
     "data": {
      "image/png": "[encoded data removed]",
      "text/plain": [
       "<Figure size 576x360 with 1 Axes>"
      ]
     },
     "metadata": {
      "needs_background": "light"
     },
     "output_type": "display_data"
    }
   ],
   "source": [
    "print('Топ сколько профессий необходимо вывести?')\n",
    "num = input()\n",
    "d = Counter(vacancies_interesting)\n",
    "d=d.most_common()[0:int(num)]\n",
    "\n",
    "keys = list(dict(d).keys())\n",
    "values = list(dict(d).values())\n",
    "figure(figsize=(8, 5))\n",
    "plt.barh(keys, values)\n",
    "print(d)"
   ]
  }
 ],
 "metadata": {
  "kernelspec": {
   "display_name": "Python 3 (ipykernel)",
   "language": "python",
   "name": "python3"
  },
  "language_info": {
   "codemirror_mode": {
    "name": "ipython",
    "version": 3
   },
   "file_extension": ".py",
   "mimetype": "text/x-python",
   "name": "python",
   "nbconvert_exporter": "python",
   "pygments_lexer": "ipython3",
   "version": "3.9.7"
  },
  "toc": {
   "base_numbering": 1,
   "nav_menu": {},
   "number_sections": true,
   "sideBar": true,
   "skip_h1_title": false,
   "title_cell": "Table of Contents",
   "title_sidebar": "Contents",
   "toc_cell": true,
   "toc_position": {},
   "toc_section_display": true,
   "toc_window_display": false
  }
 },
 "nbformat": 4,
 "nbformat_minor": 4
}
